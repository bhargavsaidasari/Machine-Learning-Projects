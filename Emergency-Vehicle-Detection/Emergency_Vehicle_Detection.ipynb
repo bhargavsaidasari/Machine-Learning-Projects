{
  "nbformat": 4,
  "nbformat_minor": 0,
  "metadata": {
    "colab": {
      "name": "Emergency-Vehicle Detection",
      "provenance": [],
      "collapsed_sections": []
    },
    "kernelspec": {
      "name": "python3",
      "display_name": "Python 3"
    },
    "accelerator": "GPU"
  },
  "cells": [
    {
      "cell_type": "code",
      "metadata": {
        "id": "E0PWB4pp95oF",
        "colab_type": "code",
        "outputId": "f33bbf08-1d79-4c0e-a51e-0246b8283ab0",
        "colab": {
          "base_uri": "https://localhost:8080/",
          "height": 228
        }
      },
      "source": [
        "!pip install -U skorch"
      ],
      "execution_count": 1,
      "outputs": [
        {
          "output_type": "stream",
          "text": [
            "Collecting skorch\n",
            "\u001b[?25l  Downloading https://files.pythonhosted.org/packages/42/21/4936b881b33de285faa0b36209afe4f9724a0875b2225abdc63b23d384a3/skorch-0.8.0-py3-none-any.whl (113kB)\n",
            "\r\u001b[K     |██▉                             | 10kB 17.9MB/s eta 0:00:01\r\u001b[K     |█████▊                          | 20kB 2.2MB/s eta 0:00:01\r\u001b[K     |████████▋                       | 30kB 2.8MB/s eta 0:00:01\r\u001b[K     |███████████▌                    | 40kB 3.0MB/s eta 0:00:01\r\u001b[K     |██████████████▍                 | 51kB 2.5MB/s eta 0:00:01\r\u001b[K     |█████████████████▎              | 61kB 2.8MB/s eta 0:00:01\r\u001b[K     |████████████████████▏           | 71kB 3.0MB/s eta 0:00:01\r\u001b[K     |███████████████████████         | 81kB 3.3MB/s eta 0:00:01\r\u001b[K     |██████████████████████████      | 92kB 3.6MB/s eta 0:00:01\r\u001b[K     |████████████████████████████▉   | 102kB 3.4MB/s eta 0:00:01\r\u001b[K     |███████████████████████████████▊| 112kB 3.4MB/s eta 0:00:01\r\u001b[K     |████████████████████████████████| 122kB 3.4MB/s \n",
            "\u001b[?25hRequirement already satisfied, skipping upgrade: scikit-learn>=0.19.1 in /usr/local/lib/python3.6/dist-packages (from skorch) (0.22.2.post1)\n",
            "Requirement already satisfied, skipping upgrade: tabulate>=0.7.7 in /usr/local/lib/python3.6/dist-packages (from skorch) (0.8.7)\n",
            "Requirement already satisfied, skipping upgrade: numpy>=1.13.3 in /usr/local/lib/python3.6/dist-packages (from skorch) (1.18.5)\n",
            "Requirement already satisfied, skipping upgrade: scipy>=1.1.0 in /usr/local/lib/python3.6/dist-packages (from skorch) (1.4.1)\n",
            "Requirement already satisfied, skipping upgrade: tqdm>=4.14.0 in /usr/local/lib/python3.6/dist-packages (from skorch) (4.41.1)\n",
            "Requirement already satisfied, skipping upgrade: joblib>=0.11 in /usr/local/lib/python3.6/dist-packages (from scikit-learn>=0.19.1->skorch) (0.15.1)\n",
            "Installing collected packages: skorch\n",
            "Successfully installed skorch-0.8.0\n"
          ],
          "name": "stdout"
        }
      ]
    },
    {
      "cell_type": "code",
      "metadata": {
        "id": "Ns5FqJch8R6l",
        "colab_type": "code",
        "colab": {}
      },
      "source": [
        "import os\n",
        "import shutil\n",
        "import hashlib\n",
        "\n",
        "import numpy as np\n",
        "import pandas as pd\n",
        "import cv2\n",
        "\n",
        "%matplotlib inline\n",
        "import matplotlib.pyplot as plt\n",
        "\n",
        "from tqdm.notebook import tqdm\n",
        "from PIL import Image\n",
        "from skorch import NeuralNetClassifier\n",
        "from sklearn.model_selection import KFold, StratifiedKFold\n",
        "from sklearn.metrics import roc_auc_score\n",
        "import albumentations as A\n",
        "from albumentations.pytorch import ToTensor"
      ],
      "execution_count": 0,
      "outputs": []
    },
    {
      "cell_type": "code",
      "metadata": {
        "id": "4pC2klDRwWKe",
        "colab_type": "code",
        "colab": {}
      },
      "source": [
        "import torch\n",
        "import torch.nn as nn\n",
        "import torch.nn.functional as F\n",
        "import torchvision\n",
        "import torch.optim as optim\n",
        "from torch.utils.data import DataLoader, Dataset\n",
        "from torchvision import transforms, models"
      ],
      "execution_count": 0,
      "outputs": []
    },
    {
      "cell_type": "code",
      "metadata": {
        "id": "NoqWsQqc9yD0",
        "colab_type": "code",
        "outputId": "c7afb7c5-50c5-418d-b3d6-f08ddbe0826a",
        "colab": {
          "base_uri": "https://localhost:8080/",
          "height": 124
        }
      },
      "source": [
        "from google.colab import drive\n",
        "drive.mount('/content/drive')"
      ],
      "execution_count": 4,
      "outputs": [
        {
          "output_type": "stream",
          "text": [
            "Go to this URL in a browser: https://accounts.google.com/o/oauth2/auth?client_id=947318989803-6bn6qk8qdgf4n4g3pfee6491hc0brc4i.apps.googleusercontent.com&redirect_uri=urn%3aietf%3awg%3aoauth%3a2.0%3aoob&response_type=code&scope=email%20https%3a%2f%2fwww.googleapis.com%2fauth%2fdocs.test%20https%3a%2f%2fwww.googleapis.com%2fauth%2fdrive%20https%3a%2f%2fwww.googleapis.com%2fauth%2fdrive.photos.readonly%20https%3a%2f%2fwww.googleapis.com%2fauth%2fpeopleapi.readonly\n",
            "\n",
            "Enter your authorization code:\n",
            "··········\n",
            "Mounted at /content/drive\n"
          ],
          "name": "stdout"
        }
      ]
    },
    {
      "cell_type": "code",
      "metadata": {
        "id": "mfDdJiBNKzJz",
        "colab_type": "code",
        "colab": {}
      },
      "source": [
        "DIR_IMAGES = \"/content/drive/My Drive/train_data/images/\"\n",
        "DIR_DF = \"/content/drive/My Drive/train_data/train.csv\"\n",
        "\n",
        "SIZE = 224\n",
        "BATCH_SIZE = 32"
      ],
      "execution_count": 0,
      "outputs": []
    },
    {
      "cell_type": "markdown",
      "metadata": {
        "id": "a717R5FlSUCt",
        "colab_type": "text"
      },
      "source": [
        "### Check the amount of data for each class\n"
      ]
    },
    {
      "cell_type": "code",
      "metadata": {
        "id": "duezoqt_8n_8",
        "colab_type": "code",
        "outputId": "2a8bbb93-cea5-4e73-d8d8-a3ea9d69cd44",
        "colab": {
          "base_uri": "https://localhost:8080/",
          "height": 69
        }
      },
      "source": [
        "train_data = pd.read_csv('/content/drive/My Drive/train_data/train.csv')\n",
        "train_data['emergency_or_not'].value_counts()"
      ],
      "execution_count": 6,
      "outputs": [
        {
          "output_type": "execute_result",
          "data": {
            "text/plain": [
              "0    965\n",
              "1    681\n",
              "Name: emergency_or_not, dtype: int64"
            ]
          },
          "metadata": {
            "tags": []
          },
          "execution_count": 6
        }
      ]
    },
    {
      "cell_type": "code",
      "metadata": {
        "id": "b01A6PXo92UI",
        "colab_type": "code",
        "outputId": "e236af25-f87b-4c46-d2de-2be93cb606a4",
        "colab": {
          "base_uri": "https://localhost:8080/",
          "height": 202
        }
      },
      "source": [
        "train_data.head()"
      ],
      "execution_count": 7,
      "outputs": [
        {
          "output_type": "execute_result",
          "data": {
            "text/html": [
              "<div>\n",
              "<style scoped>\n",
              "    .dataframe tbody tr th:only-of-type {\n",
              "        vertical-align: middle;\n",
              "    }\n",
              "\n",
              "    .dataframe tbody tr th {\n",
              "        vertical-align: top;\n",
              "    }\n",
              "\n",
              "    .dataframe thead th {\n",
              "        text-align: right;\n",
              "    }\n",
              "</style>\n",
              "<table border=\"1\" class=\"dataframe\">\n",
              "  <thead>\n",
              "    <tr style=\"text-align: right;\">\n",
              "      <th></th>\n",
              "      <th>image_names</th>\n",
              "      <th>emergency_or_not</th>\n",
              "    </tr>\n",
              "  </thead>\n",
              "  <tbody>\n",
              "    <tr>\n",
              "      <th>0</th>\n",
              "      <td>1503.jpg</td>\n",
              "      <td>0</td>\n",
              "    </tr>\n",
              "    <tr>\n",
              "      <th>1</th>\n",
              "      <td>1420.jpg</td>\n",
              "      <td>0</td>\n",
              "    </tr>\n",
              "    <tr>\n",
              "      <th>2</th>\n",
              "      <td>1764.jpg</td>\n",
              "      <td>0</td>\n",
              "    </tr>\n",
              "    <tr>\n",
              "      <th>3</th>\n",
              "      <td>1356.jpg</td>\n",
              "      <td>0</td>\n",
              "    </tr>\n",
              "    <tr>\n",
              "      <th>4</th>\n",
              "      <td>1117.jpg</td>\n",
              "      <td>0</td>\n",
              "    </tr>\n",
              "  </tbody>\n",
              "</table>\n",
              "</div>"
            ],
            "text/plain": [
              "  image_names  emergency_or_not\n",
              "0    1503.jpg                 0\n",
              "1    1420.jpg                 0\n",
              "2    1764.jpg                 0\n",
              "3    1356.jpg                 0\n",
              "4    1117.jpg                 0"
            ]
          },
          "metadata": {
            "tags": []
          },
          "execution_count": 7
        }
      ]
    },
    {
      "cell_type": "markdown",
      "metadata": {
        "id": "PskMsgp6XlaI",
        "colab_type": "text"
      },
      "source": [
        "### Create Image metadata"
      ]
    },
    {
      "cell_type": "code",
      "metadata": {
        "id": "Y65eJR-jXplk",
        "colab_type": "code",
        "colab": {}
      },
      "source": [
        "def calculate_hash(im):\n",
        "    md5 = hashlib.md5()\n",
        "    md5.update(np.array(im).tostring())\n",
        "    \n",
        "    return md5.hexdigest()\n",
        "\n",
        "\n",
        "def get_image_meta(image_id, image_src, dataset='train'):\n",
        "    im = Image.open(image_src)\n",
        "    extrema = im.getextrema()\n",
        "\n",
        "    meta = {\n",
        "        'image_id': image_id,\n",
        "        'dataset': dataset,\n",
        "        'hash': calculate_hash(im),\n",
        "        'r_min': extrema[0][0],\n",
        "        'r_max': extrema[0][1],\n",
        "        'g_min': extrema[1][0],\n",
        "        'g_max': extrema[1][1],\n",
        "        'b_min': extrema[2][0],\n",
        "        'b_max': extrema[2][1],\n",
        "        'height': im.size[0],\n",
        "        'width': im.size[1],\n",
        "        'format': im.format,\n",
        "        'mode': im.mode\n",
        "    }\n",
        "    return meta"
      ],
      "execution_count": 0,
      "outputs": []
    },
    {
      "cell_type": "markdown",
      "metadata": {
        "id": "7B1ymsdUyLW5",
        "colab_type": "text"
      },
      "source": [
        "### Dataset Class"
      ]
    },
    {
      "cell_type": "code",
      "metadata": {
        "id": "Bdxnb0a3yM2h",
        "colab_type": "code",
        "colab": {}
      },
      "source": [
        "class VehicleDataset(Dataset):\n",
        "  \"\"\" Emergency Vehicles Dataset. \"\"\"\n",
        "  def __init__(self, csv_file, root_dir, transform=None, train=True):\n",
        "    \"\"\" \n",
        "    Parameters:\n",
        "      csv_file(string): Path to the csv file containing the labels.\n",
        "      root_dir(string): Path to the folder that contains the images.\n",
        "      transforms(callable): Optional transforms to be applied on a sample.\"\"\"\n",
        "    self.vehicles_frame = pd.read_csv(csv_file)\n",
        "    self.root_dir = root_dir\n",
        "    self.transform = transform\n",
        "    self.train = train\n",
        "\n",
        "  def __len__(self):\n",
        "    return(self.vehicles_frame.shape[0])\n",
        "  \n",
        "  def __getitem__(self, idx):\n",
        "    img_name = self.root_dir + self.vehicles_frame['image_names'].iloc[idx]\n",
        "    image = cv2.imread(img_name, cv2.IMREAD_COLOR)\n",
        "    image = cv2.cvtColor(image, cv2.COLOR_BGR2RGB)\n",
        "    transformed = self.transform(image=image)\n",
        "    image = transformed['image']\n",
        "    if(self.train):\n",
        "      labels = torch.tensor(self.vehicles_frame['emergency_or_not'].iloc[idx])\n",
        "    else:\n",
        "      labels = idx\n",
        "    return(image, labels)"
      ],
      "execution_count": 0,
      "outputs": []
    },
    {
      "cell_type": "markdown",
      "metadata": {
        "id": "bdctvJPTTUS3",
        "colab_type": "text"
      },
      "source": [
        "### Define Transforms"
      ]
    },
    {
      "cell_type": "code",
      "metadata": {
        "id": "W7C4XvIHTV2N",
        "colab_type": "code",
        "colab": {}
      },
      "source": [
        "train_transform = A.Compose([\n",
        "    A.Resize(height=SIZE, width=SIZE, p=1),\n",
        "    A.HorizontalFlip(p=0.3),\n",
        "    A.VerticalFlip(p=0.3),\n",
        "    A.ShiftScaleRotate(rotate_limit=0.5, p=0.8),\n",
        "\n",
        "    # Pixels\n",
        "    A.OneOf([\n",
        "        A.IAAEmboss(p=1.0),\n",
        "        A.IAASharpen(p=1.0),\n",
        "        A.Blur(p=1.0),\n",
        "    ], p=0.5),\n",
        "\n",
        "    A.Normalize(p=1.0),\n",
        "    ToTensor(),\n",
        "])\n",
        "\n",
        "transforms_valid = A.Compose([\n",
        "    A.Resize(height=SIZE, width=SIZE, p=1.0),\n",
        "    A.Normalize(p=1.0),\n",
        "    ToTensor(),\n",
        "])"
      ],
      "execution_count": 0,
      "outputs": []
    },
    {
      "cell_type": "markdown",
      "metadata": {
        "id": "RF6UfH7oFY-i",
        "colab_type": "text"
      },
      "source": [
        "### Test Dataset Class\n",
        "\n"
      ]
    },
    {
      "cell_type": "code",
      "metadata": {
        "id": "DY-RCBqzFHEI",
        "colab_type": "code",
        "colab": {}
      },
      "source": [
        "train_dataset = VehicleDataset(DIR_DF, DIR_IMAGES, train_transform)\n",
        "train_dataloader = DataLoader(train_dataset, batch_size=32, shuffle=True)\n",
        "images, labels = next(iter(train_dataloader))"
      ],
      "execution_count": 0,
      "outputs": []
    },
    {
      "cell_type": "markdown",
      "metadata": {
        "id": "A7AC4vcehacG",
        "colab_type": "text"
      },
      "source": [
        "###  V1 - DenseNet Model\n"
      ]
    },
    {
      "cell_type": "code",
      "metadata": {
        "id": "14xlwIK3hdeO",
        "colab_type": "code",
        "colab": {}
      },
      "source": [
        "model = models.resnet18(pretrained=True)\n",
        "for param in model.parameters():\n",
        "    param.requires_grad = False"
      ],
      "execution_count": 0,
      "outputs": []
    },
    {
      "cell_type": "code",
      "metadata": {
        "id": "EaubjNSChfnH",
        "colab_type": "code",
        "colab": {}
      },
      "source": [
        "device = torch.device(\"cuda\" if torch.cuda.is_available() else \"cpu\")\n",
        "\n",
        "model.fc = nn.Sequential(nn.Linear(512, 256),\n",
        "                                 nn.ReLU(),\n",
        "                                 nn.Linear(256, 128),\n",
        "                                 nn.ReLU(),\n",
        "                                 nn.Linear(128, 2),\n",
        "                                 nn.Softmax(dim=1))\n",
        "criterion = nn.BCELoss()\n",
        "optimizer = optim.Adam(model.fc.parameters(), lr=0.0005)\n",
        "model.to(device);"
      ],
      "execution_count": 0,
      "outputs": []
    },
    {
      "cell_type": "code",
      "metadata": {
        "id": "EGzPcVTuo7ky",
        "colab_type": "code",
        "outputId": "1d362b71-0897-473e-c355-be17804372b1",
        "colab": {
          "base_uri": "https://localhost:8080/",
          "height": 1000
        }
      },
      "source": [
        "epochs = 10\n",
        "steps = 0\n",
        "running_loss = 0\n",
        "print_every = 5\n",
        "for epoch in range(epochs):\n",
        "    for inputs, labels in train_dataloader:\n",
        "        steps += 1\n",
        "        # Move input and label tensors to the default device\n",
        "        inputs, labels = inputs.to(device), labels.float().to(device)\n",
        "        \n",
        "        optimizer.zero_grad()\n",
        "        \n",
        "        logps = model.forward(inputs)\n",
        "        loss = criterion(logps[:, -1], labels)\n",
        "        loss.backward()\n",
        "        optimizer.step()\n",
        "\n",
        "        running_loss += loss.item()\n",
        "        \n",
        "        if steps % print_every == 0:\n",
        "            print(f\"Epoch {epoch+1}/{epochs}.. \"\n",
        "                  f\"Train loss: {running_loss/print_every:.3f}.. \")\n",
        "            running_loss = 0"
      ],
      "execution_count": 41,
      "outputs": [
        {
          "output_type": "stream",
          "text": [
            "Epoch 1/10.. Train loss: 0.640.. \n",
            "Epoch 1/10.. Train loss: 0.556.. \n",
            "Epoch 1/10.. Train loss: 0.492.. \n",
            "Epoch 1/10.. Train loss: 0.425.. \n",
            "Epoch 1/10.. Train loss: 0.406.. \n",
            "Epoch 1/10.. Train loss: 0.386.. \n",
            "Epoch 1/10.. Train loss: 0.375.. \n",
            "Epoch 1/10.. Train loss: 0.312.. \n",
            "Epoch 1/10.. Train loss: 0.404.. \n",
            "Epoch 1/10.. Train loss: 0.302.. \n",
            "Epoch 2/10.. Train loss: 0.333.. \n",
            "Epoch 2/10.. Train loss: 0.370.. \n",
            "Epoch 2/10.. Train loss: 0.271.. \n",
            "Epoch 2/10.. Train loss: 0.361.. \n",
            "Epoch 2/10.. Train loss: 0.297.. \n",
            "Epoch 2/10.. Train loss: 0.294.. \n",
            "Epoch 2/10.. Train loss: 0.246.. \n",
            "Epoch 2/10.. Train loss: 0.260.. \n",
            "Epoch 2/10.. Train loss: 0.341.. \n",
            "Epoch 2/10.. Train loss: 0.351.. \n",
            "Epoch 3/10.. Train loss: 0.256.. \n",
            "Epoch 3/10.. Train loss: 0.485.. \n",
            "Epoch 3/10.. Train loss: 0.424.. \n",
            "Epoch 3/10.. Train loss: 0.279.. \n",
            "Epoch 3/10.. Train loss: 0.292.. \n",
            "Epoch 3/10.. Train loss: 0.216.. \n",
            "Epoch 3/10.. Train loss: 0.284.. \n",
            "Epoch 3/10.. Train loss: 0.319.. \n",
            "Epoch 3/10.. Train loss: 0.330.. \n",
            "Epoch 3/10.. Train loss: 0.322.. \n",
            "Epoch 3/10.. Train loss: 0.287.. \n",
            "Epoch 4/10.. Train loss: 0.332.. \n",
            "Epoch 4/10.. Train loss: 0.248.. \n",
            "Epoch 4/10.. Train loss: 0.281.. \n",
            "Epoch 4/10.. Train loss: 0.243.. \n",
            "Epoch 4/10.. Train loss: 0.261.. \n",
            "Epoch 4/10.. Train loss: 0.309.. \n",
            "Epoch 4/10.. Train loss: 0.299.. \n",
            "Epoch 4/10.. Train loss: 0.266.. \n",
            "Epoch 4/10.. Train loss: 0.264.. \n",
            "Epoch 4/10.. Train loss: 0.284.. \n",
            "Epoch 5/10.. Train loss: 0.282.. \n",
            "Epoch 5/10.. Train loss: 0.243.. \n",
            "Epoch 5/10.. Train loss: 0.264.. \n",
            "Epoch 5/10.. Train loss: 0.303.. \n",
            "Epoch 5/10.. Train loss: 0.273.. \n",
            "Epoch 5/10.. Train loss: 0.234.. \n",
            "Epoch 5/10.. Train loss: 0.218.. \n",
            "Epoch 5/10.. Train loss: 0.319.. \n",
            "Epoch 5/10.. Train loss: 0.241.. \n",
            "Epoch 5/10.. Train loss: 0.383.. \n",
            "Epoch 5/10.. Train loss: 0.234.. \n",
            "Epoch 6/10.. Train loss: 0.353.. \n",
            "Epoch 6/10.. Train loss: 0.269.. \n",
            "Epoch 6/10.. Train loss: 0.271.. \n",
            "Epoch 6/10.. Train loss: 0.311.. \n",
            "Epoch 6/10.. Train loss: 0.248.. \n",
            "Epoch 6/10.. Train loss: 0.205.. \n",
            "Epoch 6/10.. Train loss: 0.210.. \n",
            "Epoch 6/10.. Train loss: 0.274.. \n",
            "Epoch 6/10.. Train loss: 0.342.. \n",
            "Epoch 6/10.. Train loss: 0.261.. \n",
            "Epoch 7/10.. Train loss: 0.202.. \n",
            "Epoch 7/10.. Train loss: 0.204.. \n",
            "Epoch 7/10.. Train loss: 0.242.. \n",
            "Epoch 7/10.. Train loss: 0.343.. \n",
            "Epoch 7/10.. Train loss: 0.205.. \n",
            "Epoch 7/10.. Train loss: 0.240.. \n",
            "Epoch 7/10.. Train loss: 0.321.. \n",
            "Epoch 7/10.. Train loss: 0.256.. \n",
            "Epoch 7/10.. Train loss: 0.303.. \n",
            "Epoch 7/10.. Train loss: 0.262.. \n",
            "Epoch 8/10.. Train loss: 0.274.. \n",
            "Epoch 8/10.. Train loss: 0.240.. \n",
            "Epoch 8/10.. Train loss: 0.250.. \n",
            "Epoch 8/10.. Train loss: 0.280.. \n",
            "Epoch 8/10.. Train loss: 0.210.. \n",
            "Epoch 8/10.. Train loss: 0.184.. \n",
            "Epoch 8/10.. Train loss: 0.301.. \n",
            "Epoch 8/10.. Train loss: 0.243.. \n",
            "Epoch 8/10.. Train loss: 0.290.. \n",
            "Epoch 8/10.. Train loss: 0.298.. \n",
            "Epoch 8/10.. Train loss: 0.151.. \n",
            "Epoch 9/10.. Train loss: 0.316.. \n",
            "Epoch 9/10.. Train loss: 0.325.. \n",
            "Epoch 9/10.. Train loss: 0.309.. \n",
            "Epoch 9/10.. Train loss: 0.301.. \n",
            "Epoch 9/10.. Train loss: 0.318.. \n",
            "Epoch 9/10.. Train loss: 0.224.. \n",
            "Epoch 9/10.. Train loss: 0.192.. \n",
            "Epoch 9/10.. Train loss: 0.176.. \n",
            "Epoch 9/10.. Train loss: 0.222.. \n",
            "Epoch 9/10.. Train loss: 0.371.. \n",
            "Epoch 10/10.. Train loss: 0.243.. \n",
            "Epoch 10/10.. Train loss: 0.313.. \n",
            "Epoch 10/10.. Train loss: 0.357.. \n",
            "Epoch 10/10.. Train loss: 0.237.. \n",
            "Epoch 10/10.. Train loss: 0.284.. \n",
            "Epoch 10/10.. Train loss: 0.251.. \n",
            "Epoch 10/10.. Train loss: 0.220.. \n",
            "Epoch 10/10.. Train loss: 0.201.. \n",
            "Epoch 10/10.. Train loss: 0.205.. \n",
            "Epoch 10/10.. Train loss: 0.253.. \n",
            "Epoch 10/10.. Train loss: 0.213.. \n"
          ],
          "name": "stdout"
        }
      ]
    },
    {
      "cell_type": "code",
      "metadata": {
        "id": "RK_Gb9iaeLH5",
        "colab_type": "code",
        "colab": {}
      },
      "source": [
        "def predict_image(image, transform):\n",
        "    image_tensor = transforms(image).float()\n",
        "    image_tensor = image_tensor.unsqueeze_(0)\n",
        "    input = Variable(image_tensor)\n",
        "    input = input.to(device)\n",
        "    output = model(input)\n",
        "    index = output.data.cpu().numpy().argmax()\n",
        "    return index"
      ],
      "execution_count": 0,
      "outputs": []
    },
    {
      "cell_type": "code",
      "metadata": {
        "id": "n3VSrc0VwyBR",
        "colab_type": "code",
        "colab": {}
      },
      "source": [
        "test_df = pd.read_csv('/content/drive/My Drive/train_data/test_vc2kHdQ.csv')\n",
        "test_df['emergency_or_not'] = 0\n",
        "test_dataset = VehicleDataset('/content/drive/My Drive/train_data/test_vc2kHdQ.csv', DIR_IMAGES, transforms_valid, False)\n",
        "test_dataloader = DataLoader(test_dataset, batch_size=32, shuffle=True)"
      ],
      "execution_count": 0,
      "outputs": []
    },
    {
      "cell_type": "code",
      "metadata": {
        "id": "nr263wT_4bfk",
        "colab_type": "code",
        "colab": {
          "base_uri": "https://localhost:8080/",
          "height": 124
        },
        "outputId": "6e7c12ba-da5f-409d-e58e-46243ec5a518"
      },
      "source": [
        "model.eval()\n",
        "with torch.no_grad():\n",
        "  for image_id, index in test_dataloader:\n",
        "    image_id = image_id.cuda()\n",
        "    output = model(image_id)\n",
        "    result = output.max(axis=1)[1].cpu().numpy()\n",
        "    test_df['emergency_or_not'].iloc[index] = result"
      ],
      "execution_count": 49,
      "outputs": [
        {
          "output_type": "stream",
          "text": [
            "/usr/local/lib/python3.6/dist-packages/pandas/core/indexing.py:671: SettingWithCopyWarning: \n",
            "A value is trying to be set on a copy of a slice from a DataFrame\n",
            "\n",
            "See the caveats in the documentation: https://pandas.pydata.org/pandas-docs/stable/user_guide/indexing.html#returning-a-view-versus-a-copy\n",
            "  self._setitem_with_indexer(indexer, value)\n"
          ],
          "name": "stderr"
        }
      ]
    },
    {
      "cell_type": "code",
      "metadata": {
        "id": "cMTGMdu_SaRI",
        "colab_type": "code",
        "colab": {}
      },
      "source": [
        "test_df.to_csv('result.csv')"
      ],
      "execution_count": 0,
      "outputs": []
    }
  ]
}