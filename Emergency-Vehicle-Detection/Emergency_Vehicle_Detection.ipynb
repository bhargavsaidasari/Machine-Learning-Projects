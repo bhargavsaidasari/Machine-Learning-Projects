{
  "nbformat": 4,
  "nbformat_minor": 0,
  "metadata": {
    "colab": {
      "name": "Emergency_Vehicle_Detection (2).ipynb",
      "provenance": [],
      "collapsed_sections": [],
      "toc_visible": true,
      "machine_shape": "hm"
    },
    "kernelspec": {
      "name": "python3",
      "display_name": "Python 3"
    },
    "accelerator": "GPU"
  },
  "cells": [
    {
      "cell_type": "code",
      "metadata": {
        "id": "E0PWB4pp95oF",
        "colab_type": "code",
        "colab": {
          "base_uri": "https://localhost:8080/",
          "height": 107
        },
        "outputId": "99753663-ad5b-4a98-9879-a0a628467774"
      },
      "source": [
        "#!pip install -U skorch\n",
        "!pip install efficientnet_pytorch"
      ],
      "execution_count": 1,
      "outputs": [
        {
          "output_type": "stream",
          "text": [
            "Requirement already satisfied: efficientnet_pytorch in /usr/local/lib/python3.6/dist-packages (0.6.3)\n",
            "Requirement already satisfied: torch in /usr/local/lib/python3.6/dist-packages (from efficientnet_pytorch) (1.5.0+cu101)\n",
            "Requirement already satisfied: numpy in /usr/local/lib/python3.6/dist-packages (from torch->efficientnet_pytorch) (1.18.5)\n",
            "Requirement already satisfied: future in /usr/local/lib/python3.6/dist-packages (from torch->efficientnet_pytorch) (0.16.0)\n"
          ],
          "name": "stdout"
        }
      ]
    },
    {
      "cell_type": "code",
      "metadata": {
        "id": "Ns5FqJch8R6l",
        "colab_type": "code",
        "colab": {}
      },
      "source": [
        "import os\n",
        "import shutil\n",
        "import hashlib\n",
        "\n",
        "import numpy as np\n",
        "import pandas as pd\n",
        "import cv2\n",
        "\n",
        "%matplotlib inline\n",
        "import matplotlib.pyplot as plt\n",
        "\n",
        "from tqdm.notebook import tqdm\n",
        "from PIL import Image\n",
        "from efficientnet_pytorch import EfficientNet\n",
        "from sklearn.model_selection import KFold, StratifiedKFold\n",
        "from sklearn.metrics import roc_auc_score\n",
        "import albumentations as A\n",
        "from albumentations.pytorch import ToTensor"
      ],
      "execution_count": 2,
      "outputs": []
    },
    {
      "cell_type": "code",
      "metadata": {
        "id": "4pC2klDRwWKe",
        "colab_type": "code",
        "colab": {}
      },
      "source": [
        "import torch\n",
        "import torch.nn as nn\n",
        "import torch.nn.functional as F\n",
        "import torchvision\n",
        "import torch.optim as optim\n",
        "from torch.utils.data import DataLoader, Dataset\n",
        "from torchvision import transforms, models"
      ],
      "execution_count": 3,
      "outputs": []
    },
    {
      "cell_type": "code",
      "metadata": {
        "id": "NoqWsQqc9yD0",
        "colab_type": "code",
        "colab": {
          "base_uri": "https://localhost:8080/",
          "height": 55
        },
        "outputId": "8891b3b2-eaf5-4ec9-f908-b4840c7af859"
      },
      "source": [
        "from google.colab import drive\n",
        "drive.mount('/content/drive')"
      ],
      "execution_count": 4,
      "outputs": [
        {
          "output_type": "stream",
          "text": [
            "Drive already mounted at /content/drive; to attempt to forcibly remount, call drive.mount(\"/content/drive\", force_remount=True).\n"
          ],
          "name": "stdout"
        }
      ]
    },
    {
      "cell_type": "code",
      "metadata": {
        "id": "mfDdJiBNKzJz",
        "colab_type": "code",
        "colab": {}
      },
      "source": [
        "DIR_IMAGES = \"/content/drive/My Drive/train_data/images/\"\n",
        "DIR_DF = \"/content/drive/My Drive/train_data/train.csv\"\n",
        "\n",
        "SIZE = 224\n",
        "FOLDS = 5\n",
        "BATCH_SIZE = 32\n",
        "SEED = 1080\n",
        "MODEL_NAME = 'efficientnet-b4'\n",
        "NUM_CLASSES = 2"
      ],
      "execution_count": 27,
      "outputs": []
    },
    {
      "cell_type": "markdown",
      "metadata": {
        "id": "a717R5FlSUCt",
        "colab_type": "text"
      },
      "source": [
        "### Check the amount of data for each class\n"
      ]
    },
    {
      "cell_type": "code",
      "metadata": {
        "id": "duezoqt_8n_8",
        "colab_type": "code",
        "colab": {
          "base_uri": "https://localhost:8080/",
          "height": 69
        },
        "outputId": "2abff62d-ec0b-4806-ad0a-6901308e6ddb"
      },
      "source": [
        "train_data = pd.read_csv('/content/drive/My Drive/train_data/train.csv')\n",
        "train_data['emergency_or_not'].value_counts()"
      ],
      "execution_count": 9,
      "outputs": [
        {
          "output_type": "execute_result",
          "data": {
            "text/plain": [
              "0    965\n",
              "1    681\n",
              "Name: emergency_or_not, dtype: int64"
            ]
          },
          "metadata": {
            "tags": []
          },
          "execution_count": 9
        }
      ]
    },
    {
      "cell_type": "code",
      "metadata": {
        "id": "b01A6PXo92UI",
        "colab_type": "code",
        "colab": {
          "base_uri": "https://localhost:8080/",
          "height": 202
        },
        "outputId": "146badae-3d19-41d7-908a-9eb2b3b091fe"
      },
      "source": [
        "train_data.head()"
      ],
      "execution_count": 10,
      "outputs": [
        {
          "output_type": "execute_result",
          "data": {
            "text/html": [
              "<div>\n",
              "<style scoped>\n",
              "    .dataframe tbody tr th:only-of-type {\n",
              "        vertical-align: middle;\n",
              "    }\n",
              "\n",
              "    .dataframe tbody tr th {\n",
              "        vertical-align: top;\n",
              "    }\n",
              "\n",
              "    .dataframe thead th {\n",
              "        text-align: right;\n",
              "    }\n",
              "</style>\n",
              "<table border=\"1\" class=\"dataframe\">\n",
              "  <thead>\n",
              "    <tr style=\"text-align: right;\">\n",
              "      <th></th>\n",
              "      <th>image_names</th>\n",
              "      <th>emergency_or_not</th>\n",
              "    </tr>\n",
              "  </thead>\n",
              "  <tbody>\n",
              "    <tr>\n",
              "      <th>0</th>\n",
              "      <td>1503.jpg</td>\n",
              "      <td>0</td>\n",
              "    </tr>\n",
              "    <tr>\n",
              "      <th>1</th>\n",
              "      <td>1420.jpg</td>\n",
              "      <td>0</td>\n",
              "    </tr>\n",
              "    <tr>\n",
              "      <th>2</th>\n",
              "      <td>1764.jpg</td>\n",
              "      <td>0</td>\n",
              "    </tr>\n",
              "    <tr>\n",
              "      <th>3</th>\n",
              "      <td>1356.jpg</td>\n",
              "      <td>0</td>\n",
              "    </tr>\n",
              "    <tr>\n",
              "      <th>4</th>\n",
              "      <td>1117.jpg</td>\n",
              "      <td>0</td>\n",
              "    </tr>\n",
              "  </tbody>\n",
              "</table>\n",
              "</div>"
            ],
            "text/plain": [
              "  image_names  emergency_or_not\n",
              "0    1503.jpg                 0\n",
              "1    1420.jpg                 0\n",
              "2    1764.jpg                 0\n",
              "3    1356.jpg                 0\n",
              "4    1117.jpg                 0"
            ]
          },
          "metadata": {
            "tags": []
          },
          "execution_count": 10
        }
      ]
    },
    {
      "cell_type": "markdown",
      "metadata": {
        "id": "PskMsgp6XlaI",
        "colab_type": "text"
      },
      "source": [
        "### Create Image metadata"
      ]
    },
    {
      "cell_type": "code",
      "metadata": {
        "id": "Y65eJR-jXplk",
        "colab_type": "code",
        "colab": {}
      },
      "source": [
        "def calculate_hash(im):\n",
        "    md5 = hashlib.md5()\n",
        "    md5.update(np.array(im).tostring())\n",
        "    \n",
        "    return md5.hexdigest()\n",
        "\n",
        "\n",
        "def get_image_meta(image_id, image_src, dataset='train'):\n",
        "    im = Image.open(image_src)\n",
        "    extrema = im.getextrema()\n",
        "\n",
        "    meta = {\n",
        "        'image_id': image_id,\n",
        "        'dataset': dataset,\n",
        "        'hash': calculate_hash(im),\n",
        "        'r_min': extrema[0][0],\n",
        "        'r_max': extrema[0][1],\n",
        "        'g_min': extrema[1][0],\n",
        "        'g_max': extrema[1][1],\n",
        "        'b_min': extrema[2][0],\n",
        "        'b_max': extrema[2][1],\n",
        "        'height': im.size[0],\n",
        "        'width': im.size[1],\n",
        "        'format': im.format,\n",
        "        'mode': im.mode\n",
        "    }\n",
        "    return meta"
      ],
      "execution_count": 11,
      "outputs": []
    },
    {
      "cell_type": "markdown",
      "metadata": {
        "id": "7B1ymsdUyLW5",
        "colab_type": "text"
      },
      "source": [
        "### Dataset Class"
      ]
    },
    {
      "cell_type": "code",
      "metadata": {
        "id": "Bdxnb0a3yM2h",
        "colab_type": "code",
        "colab": {}
      },
      "source": [
        "class VehicleDataset(Dataset):\n",
        "  \"\"\" Emergency Vehicles Dataset. \"\"\"\n",
        "  def __init__(self, dataframe, root_dir, transform=None, train=True):\n",
        "    \"\"\" \n",
        "    Parameters:\n",
        "      csv_file(string): Path to the csv file containing the labels.\n",
        "      root_dir(string): Path to the folder that contains the images.\n",
        "      transforms(callable): Optional transforms to be applied on a sample.\"\"\"\n",
        "    self.vehicles_frame = dataframe\n",
        "    self.root_dir = root_dir\n",
        "    self.transform = transform\n",
        "    self.train = train\n",
        "\n",
        "  def __len__(self):\n",
        "    return(self.vehicles_frame.shape[0])\n",
        "  \n",
        "  def __getitem__(self, idx):\n",
        "    img_name = self.root_dir + self.vehicles_frame['image_names'].iloc[idx]\n",
        "    image = cv2.imread(img_name, cv2.IMREAD_COLOR)\n",
        "    image = cv2.cvtColor(image, cv2.COLOR_BGR2RGB)\n",
        "    transformed = self.transform(image=image)\n",
        "    image = transformed['image']\n",
        "    if(self.train):\n",
        "      labels = torch.tensor(self.vehicles_frame['emergency_or_not'].iloc[idx])\n",
        "    else:\n",
        "      labels = idx\n",
        "    return(image, labels)"
      ],
      "execution_count": 12,
      "outputs": []
    },
    {
      "cell_type": "markdown",
      "metadata": {
        "id": "bdctvJPTTUS3",
        "colab_type": "text"
      },
      "source": [
        "### Define Transforms"
      ]
    },
    {
      "cell_type": "code",
      "metadata": {
        "id": "W7C4XvIHTV2N",
        "colab_type": "code",
        "colab": {}
      },
      "source": [
        "train_transform = A.Compose([\n",
        "    A.Resize(height=SIZE, width=SIZE, p=1),\n",
        "    A.HorizontalFlip(p=0.5),\n",
        "    A.VerticalFlip(p=0.5),\n",
        "    A.ShiftScaleRotate(rotate_limit=0.5, p=0.8),\n",
        "\n",
        "    # Pixels\n",
        "    A.OneOf([\n",
        "        A.IAAEmboss(p=1.0),\n",
        "        A.IAASharpen(p=1.0),\n",
        "        A.Blur(p=1.0),\n",
        "    ], p=0.5),\n",
        "\n",
        "    A.OneOf([\n",
        "        A.ElasticTransform(p=1.0),\n",
        "        A.IAAPiecewiseAffine(p=1.0)\n",
        "    ], p=0.5),\n",
        "    \n",
        "    A.Normalize(p=1.0),\n",
        "    ToTensor(),\n",
        "])\n",
        "\n",
        "transforms_valid = A.Compose([\n",
        "    A.Resize(height=SIZE, width=SIZE, p=1.0),\n",
        "    A.Normalize(p=1.0),\n",
        "    ToTensor(),\n",
        "])"
      ],
      "execution_count": 13,
      "outputs": []
    },
    {
      "cell_type": "markdown",
      "metadata": {
        "id": "RF6UfH7oFY-i",
        "colab_type": "text"
      },
      "source": [
        "### Test Dataset Class\n",
        "\n"
      ]
    },
    {
      "cell_type": "code",
      "metadata": {
        "id": "DY-RCBqzFHEI",
        "colab_type": "code",
        "colab": {}
      },
      "source": [
        "# train_dataset = VehicleDataset(train_data, DIR_IMAGES, train_transform)\n",
        "# train_dataloader = DataLoader(train_dataset, batch_size=32, shuffle=True)\n",
        "# images, labels = next(iter(train_dataloader))\n",
        "# del train_dataloader, train_dataset"
      ],
      "execution_count": null,
      "outputs": []
    },
    {
      "cell_type": "markdown",
      "metadata": {
        "id": "A7AC4vcehacG",
        "colab_type": "text"
      },
      "source": [
        "###  V4 - EfficientNet Model\n"
      ]
    },
    {
      "cell_type": "code",
      "metadata": {
        "id": "14xlwIK3hdeO",
        "colab_type": "code",
        "colab": {
          "base_uri": "https://localhost:8080/",
          "height": 35
        },
        "outputId": "359ab1c5-daf6-44ec-969c-a9e11925593d"
      },
      "source": [
        "model = EfficientNet.from_pretrained(MODEL_NAME)\n",
        "\n",
        "input_features = model._fc.in_features\n",
        "model._fc = nn.Sequential(nn.Linear(input_features, 1000, bias=True),\n",
        "                          nn.ReLU(),\n",
        "                          nn.Dropout(p=0.5),\n",
        "                          nn.Linear(1000, NUM_CLASSES, bias = True),\n",
        "                          nn.Softmax(dim=1))"
      ],
      "execution_count": 30,
      "outputs": [
        {
          "output_type": "stream",
          "text": [
            "Loaded pretrained weights for efficientnet-b4\n"
          ],
          "name": "stdout"
        }
      ]
    },
    {
      "cell_type": "code",
      "metadata": {
        "id": "EaubjNSChfnH",
        "colab_type": "code",
        "colab": {}
      },
      "source": [
        "device = torch.device(\"cuda\" if torch.cuda.is_available() else \"cpu\")\n",
        "PATH = 'init.pth'\n",
        "torch.save(model.state_dict(), PATH)\n",
        "model.to(device); "
      ],
      "execution_count": 31,
      "outputs": []
    },
    {
      "cell_type": "code",
      "metadata": {
        "id": "WzxBV9cjHS28",
        "colab_type": "code",
        "colab": {}
      },
      "source": [
        "def compute_val_metrics(model, valid_loader):\n",
        "  model.eval()\n",
        "  validation_loss = 0\n",
        "  correct = 0\n",
        "  size = 0\n",
        "  with torch.no_grad():\n",
        "    for inputs, labels in valid_loader:\n",
        "      # Move data to the Cuda.\n",
        "      inputs, labels = inputs.to(device), labels.float().to(device)\n",
        "      # Compute the model outputs\n",
        "      output= model.forward(inputs)\n",
        "      # Compute loss function\n",
        "      loss = criterion(output[:, -1], labels)\n",
        "      validation_loss += loss\n",
        "      # Compute Result\n",
        "      result = output.max(axis=1)[1]\n",
        "      # Find the number of correctly classifid examples\n",
        "      correct += torch.sum(torch.eq(result.type(labels.type()), labels)).item()\n",
        "      # Find the total number of samples\n",
        "      size += labels.size(0)\n",
        "  return(validation_loss, (correct * 100 /size))\n",
        "\n",
        "\n",
        "def train_one_epoch(model, optmizer, train_loader, valid_loader):\n",
        "  train_loss = 0\n",
        "  model.train()\n",
        "  for inputs, labels in train_dataloader:\n",
        "    inputs, labels = inputs.to(device), labels.float().to(device)\n",
        "\n",
        "    optimizer.zero_grad()\n",
        "  \n",
        "    logps = model.forward(inputs)\n",
        "    loss = criterion(logps[:, -1], labels)\n",
        "    loss.backward()\n",
        "    optimizer.step()\n",
        "    train_loss += loss.item()\n",
        "  validation_loss, valid_accuracy = compute_val_metrics(model, valid_loader)\n",
        "  scheduler.step(validation_loss)\n",
        "  _, train_accuracy = compute_val_metrics(model, train_loader)\n",
        "  return(train_loss, validation_loss, valid_accuracy, train_accuracy)"
      ],
      "execution_count": 34,
      "outputs": []
    },
    {
      "cell_type": "code",
      "metadata": {
        "id": "G6d2GKuK9WPN",
        "colab_type": "code",
        "colab": {}
      },
      "source": [
        "folds = KFold(n_splits=5, shuffle=True, random_state=SEED)"
      ],
      "execution_count": 35,
      "outputs": []
    },
    {
      "cell_type": "code",
      "metadata": {
        "id": "EGzPcVTuo7ky",
        "colab_type": "code",
        "colab": {
          "base_uri": "https://localhost:8080/",
          "height": 1000
        },
        "outputId": "09366db0-89b1-4f0e-f07f-ca4f05220a13"
      },
      "source": [
        "from collections import defaultdict\n",
        "# Dicts to store training and test accuracy\n",
        "valid_accuracy_dict = defaultdict(list)\n",
        "train_accuracy_dict = defaultdict(list)\n",
        "for i_fold, (train_idx, valid_idx) in enumerate(folds.split(train_data)):\n",
        "  epochs = 30\n",
        "  # Validation DataFrame\n",
        "  valid = train_data.iloc[valid_idx]\n",
        "  valid.reset_index(drop=True, inplace=True)\n",
        "  # Training DataFrame\n",
        "  train = train_data.iloc[train_idx]\n",
        "  train.reset_index(drop=True, inplace=True)\n",
        "  # Train DataLoader\n",
        "  train_dataset = VehicleDataset(train, DIR_IMAGES, train_transform)\n",
        "  train_dataloader = DataLoader(train_dataset, batch_size=BATCH_SIZE, shuffle=True)\n",
        "  # Valid Dataloder\n",
        "  valid_dataset = VehicleDataset(valid, DIR_IMAGES, transforms_valid)\n",
        "  valid_dataloader = DataLoader(valid_dataset, batch_size=BATCH_SIZE, shuffle=True)\n",
        "  # Reset model and loss functions every iteration\n",
        "  criterion = nn.BCELoss()\n",
        "  model.load_state_dict(torch.load(PATH)) \n",
        "  model.to(device);\n",
        "  parameters =  list(model._fc.parameters())\n",
        "  optimizer = torch.optim.SGD(model.parameters(), lr=0.005, momentum=0.9)\n",
        "  scheduler = torch.optim.lr_scheduler.ReduceLROnPlateau(optimizer, factor=0.3, patience=3)\n",
        "  for epoch in range(epochs):\n",
        "    print(f\"Fold {i_fold}\")\n",
        "    train_loss, valid_loss, valid_accuracy, train_accuracy = train_one_epoch(model, optimizer, train_dataloader, valid_dataloader)\n",
        "    train_accuracy_dict[i_fold].append(train_accuracy)\n",
        "    valid_accuracy_dict[i_fold].append(valid_accuracy)\n",
        "    print(f\"Epoch {epoch+1} / {epochs}.. \"\n",
        "            f\"Train loss: {train_loss:.3f}.. \"\n",
        "            f\"Val Loss:{valid_loss:.3f}.. \"\n",
        "            f\"Val Accuracy:{valid_accuracy}..\"\n",
        "            f\"Train Accuracy:{train_accuracy}\")\n",
        "  torch.save(model.state_dict(), '/content/drive/My Drive/model'+str(i_fold)+'.pth')\n",
        "  break"
      ],
      "execution_count": 36,
      "outputs": [
        {
          "output_type": "stream",
          "text": [
            "Fold 0\n",
            "Epoch 1 / 30.. Train loss: 21.086.. Val Loss:2.581.. Val Accuracy:91.81818181818181..Train Accuracy:87.23404255319149\n",
            "Fold 0\n",
            "Epoch 2 / 30.. Train loss: 13.801.. Val Loss:4.313.. Val Accuracy:88.48484848484848..Train Accuracy:83.8145896656535\n",
            "Fold 0\n",
            "Epoch 3 / 30.. Train loss: 11.325.. Val Loss:6.460.. Val Accuracy:82.42424242424242..Train Accuracy:80.09118541033435\n",
            "Fold 0\n",
            "Epoch 4 / 30.. Train loss: 9.917.. Val Loss:4.167.. Val Accuracy:85.45454545454545..Train Accuracy:89.8176291793313\n",
            "Fold 0\n",
            "Epoch 5 / 30.. Train loss: 11.260.. Val Loss:8.801.. Val Accuracy:63.63636363636363..Train Accuracy:68.16109422492401\n",
            "Fold 0\n",
            "Epoch 6 / 30.. Train loss: 11.767.. Val Loss:2.424.. Val Accuracy:91.81818181818181..Train Accuracy:92.70516717325228\n",
            "Fold 0\n",
            "Epoch 7 / 30.. Train loss: 6.395.. Val Loss:2.184.. Val Accuracy:94.24242424242425..Train Accuracy:95.44072948328268\n",
            "Fold 0\n",
            "Epoch 8 / 30.. Train loss: 5.122.. Val Loss:2.330.. Val Accuracy:94.84848484848484..Train Accuracy:97.11246200607903\n",
            "Fold 0\n",
            "Epoch 9 / 30.. Train loss: 4.346.. Val Loss:2.063.. Val Accuracy:94.84848484848484..Train Accuracy:97.34042553191489\n",
            "Fold 0\n",
            "Epoch 10 / 30.. Train loss: 7.445.. Val Loss:2.129.. Val Accuracy:94.84848484848484..Train Accuracy:97.56838905775076\n",
            "Fold 0\n",
            "Epoch 11 / 30.. Train loss: 4.299.. Val Loss:1.656.. Val Accuracy:95.75757575757575..Train Accuracy:96.73252279635258\n",
            "Fold 0\n",
            "Epoch 12 / 30.. Train loss: 4.378.. Val Loss:1.560.. Val Accuracy:95.45454545454545..Train Accuracy:98.32826747720365\n",
            "Fold 0\n",
            "Epoch 13 / 30.. Train loss: 3.371.. Val Loss:1.607.. Val Accuracy:95.15151515151516..Train Accuracy:98.6322188449848\n",
            "Fold 0\n",
            "Epoch 14 / 30.. Train loss: 3.262.. Val Loss:1.755.. Val Accuracy:94.84848484848484..Train Accuracy:97.11246200607903\n",
            "Fold 0\n",
            "Epoch 15 / 30.. Train loss: 4.689.. Val Loss:1.582.. Val Accuracy:96.06060606060606..Train Accuracy:98.02431610942249\n",
            "Fold 0\n",
            "Epoch 16 / 30.. Train loss: 3.224.. Val Loss:1.882.. Val Accuracy:95.45454545454545..Train Accuracy:97.03647416413374\n",
            "Fold 0\n",
            "Epoch 17 / 30.. Train loss: 2.706.. Val Loss:1.716.. Val Accuracy:96.06060606060606..Train Accuracy:98.55623100303951\n",
            "Fold 0\n",
            "Epoch 18 / 30.. Train loss: 2.608.. Val Loss:1.653.. Val Accuracy:95.45454545454545..Train Accuracy:98.40425531914893\n",
            "Fold 0\n",
            "Epoch 19 / 30.. Train loss: 3.074.. Val Loss:1.811.. Val Accuracy:95.75757575757575..Train Accuracy:98.78419452887537\n",
            "Fold 0\n",
            "Epoch 20 / 30.. Train loss: 2.767.. Val Loss:1.894.. Val Accuracy:95.15151515151516..Train Accuracy:98.6322188449848\n",
            "Fold 0\n",
            "Epoch 21 / 30.. Train loss: 2.178.. Val Loss:1.668.. Val Accuracy:95.15151515151516..Train Accuracy:98.86018237082067\n",
            "Fold 0\n",
            "Epoch 22 / 30.. Train loss: 3.120.. Val Loss:1.626.. Val Accuracy:95.45454545454545..Train Accuracy:99.46808510638297\n",
            "Fold 0\n",
            "Epoch 23 / 30.. Train loss: 2.260.. Val Loss:2.139.. Val Accuracy:95.45454545454545..Train Accuracy:98.7082066869301\n",
            "Fold 0\n",
            "Epoch 24 / 30.. Train loss: 2.151.. Val Loss:1.898.. Val Accuracy:94.84848484848484..Train Accuracy:99.01215805471125\n",
            "Fold 0\n",
            "Epoch 25 / 30.. Train loss: 2.534.. Val Loss:1.798.. Val Accuracy:94.84848484848484..Train Accuracy:98.93617021276596\n",
            "Fold 0\n",
            "Epoch 26 / 30.. Train loss: 2.212.. Val Loss:1.668.. Val Accuracy:95.15151515151516..Train Accuracy:98.78419452887537\n",
            "Fold 0\n",
            "Epoch 27 / 30.. Train loss: 2.833.. Val Loss:1.734.. Val Accuracy:95.15151515151516..Train Accuracy:98.78419452887537\n",
            "Fold 0\n",
            "Epoch 28 / 30.. Train loss: 2.108.. Val Loss:1.886.. Val Accuracy:95.15151515151516..Train Accuracy:99.01215805471125\n",
            "Fold 0\n",
            "Epoch 29 / 30.. Train loss: 1.976.. Val Loss:1.673.. Val Accuracy:95.15151515151516..Train Accuracy:98.93617021276596\n",
            "Fold 0\n",
            "Epoch 30 / 30.. Train loss: 1.937.. Val Loss:1.669.. Val Accuracy:95.15151515151516..Train Accuracy:99.16413373860182\n"
          ],
          "name": "stdout"
        }
      ]
    },
    {
      "cell_type": "code",
      "metadata": {
        "id": "NhcXMPdbFrwh",
        "colab_type": "code",
        "colab": {}
      },
      "source": [
        " test_transform = A.Compose([\n",
        "                                A.Resize(height=SIZE, width=SIZE, p=1.0),\n",
        "                                A.HorizontalFlip(p=0.5),\n",
        "                                A.VerticalFlip(p=0.5),\n",
        "                                A.ShiftScaleRotate(rotate_limit=25.0, p=0.7),\n",
        "                                A.Normalize(p=1.0),\n",
        "                                ToTensor()])"
      ],
      "execution_count": 38,
      "outputs": []
    },
    {
      "cell_type": "markdown",
      "metadata": {
        "id": "yasEZ-j6yZHd",
        "colab_type": "text"
      },
      "source": [
        "### Evaluate accuracy on the training set\n"
      ]
    },
    {
      "cell_type": "code",
      "metadata": {
        "id": "SNlJPFb1ydpl",
        "colab_type": "code",
        "colab": {}
      },
      "source": [
        "test_train_dataset = VehicleDataset(train_data, DIR_IMAGES, test_transform)\n",
        "test_train_dataloader = DataLoader(test_train_dataset, batch_size=64, shuffle=True)"
      ],
      "execution_count": 30,
      "outputs": []
    },
    {
      "cell_type": "code",
      "metadata": {
        "id": "miStj0H21Y7K",
        "colab_type": "code",
        "colab": {}
      },
      "source": [
        "_, accuracy = compute_val_metrics(model, test_train_dataloader)"
      ],
      "execution_count": 31,
      "outputs": []
    },
    {
      "cell_type": "code",
      "metadata": {
        "id": "oQ4zW-xUKM3B",
        "colab_type": "code",
        "colab": {
          "base_uri": "https://localhost:8080/",
          "height": 35
        },
        "outputId": "c6a22135-cc84-4749-9965-363f9a9fe0dd"
      },
      "source": [
        "accuracy"
      ],
      "execution_count": 32,
      "outputs": [
        {
          "output_type": "execute_result",
          "data": {
            "text/plain": [
              "95.80801944106926"
            ]
          },
          "metadata": {
            "tags": []
          },
          "execution_count": 32
        }
      ]
    },
    {
      "cell_type": "markdown",
      "metadata": {
        "id": "3vbxQ-NY2Zke",
        "colab_type": "text"
      },
      "source": [
        "### Sumbit the model and report test accuracy\n"
      ]
    },
    {
      "cell_type": "code",
      "metadata": {
        "id": "n3VSrc0VwyBR",
        "colab_type": "code",
        "colab": {}
      },
      "source": [
        "test_df = pd.read_csv('/content/drive/My Drive/train_data/test_vc2kHdQ.csv')\n",
        "test_df['emergency_or_not'] = 0\n",
        "test_dataset = VehicleDataset(test_df, DIR_IMAGES, test_transform, False)\n",
        "test_dataloader = DataLoader(test_dataset, batch_size=64, shuffle=True)"
      ],
      "execution_count": 39,
      "outputs": []
    },
    {
      "cell_type": "code",
      "metadata": {
        "id": "nr263wT_4bfk",
        "colab_type": "code",
        "colab": {
          "base_uri": "https://localhost:8080/",
          "height": 124
        },
        "outputId": "4ea366c1-290a-4147-d382-082e78bb6ed6"
      },
      "source": [
        "test_df['results'] = 0\n",
        "model.eval()\n",
        "with torch.no_grad():\n",
        "  model.load_state_dict(torch.load('/content/drive/My Drive/model0.pth'))\n",
        "  for i in range(5):\n",
        "\n",
        "    for image_id, index in test_dataloader:\n",
        "      image_id = image_id.cuda()\n",
        "      output = model(image_id)\n",
        "      test_df['results'].loc[index] += output[:, -1].cpu().numpy()"
      ],
      "execution_count": 40,
      "outputs": [
        {
          "output_type": "stream",
          "text": [
            "/usr/local/lib/python3.6/dist-packages/pandas/core/indexing.py:671: SettingWithCopyWarning: \n",
            "A value is trying to be set on a copy of a slice from a DataFrame\n",
            "\n",
            "See the caveats in the documentation: https://pandas.pydata.org/pandas-docs/stable/user_guide/indexing.html#returning-a-view-versus-a-copy\n",
            "  self._setitem_with_indexer(indexer, value)\n"
          ],
          "name": "stderr"
        }
      ]
    },
    {
      "cell_type": "code",
      "metadata": {
        "id": "cMTGMdu_SaRI",
        "colab_type": "code",
        "colab": {}
      },
      "source": [
        "test_df['emergency_or_not'] = (test_df['results'] > FOLDS/2).astype(int)\n",
        "test_df.to_csv('results.csv')"
      ],
      "execution_count": 41,
      "outputs": []
    },
    {
      "cell_type": "code",
      "metadata": {
        "id": "bRR1U53VQWva",
        "colab_type": "code",
        "colab": {
          "base_uri": "https://localhost:8080/",
          "height": 415
        },
        "outputId": "4d2f7144-f31a-47dc-84ed-f79a91c6757d"
      },
      "source": [
        ""
      ],
      "execution_count": 42,
      "outputs": [
        {
          "output_type": "execute_result",
          "data": {
            "text/html": [
              "<div>\n",
              "<style scoped>\n",
              "    .dataframe tbody tr th:only-of-type {\n",
              "        vertical-align: middle;\n",
              "    }\n",
              "\n",
              "    .dataframe tbody tr th {\n",
              "        vertical-align: top;\n",
              "    }\n",
              "\n",
              "    .dataframe thead th {\n",
              "        text-align: right;\n",
              "    }\n",
              "</style>\n",
              "<table border=\"1\" class=\"dataframe\">\n",
              "  <thead>\n",
              "    <tr style=\"text-align: right;\">\n",
              "      <th></th>\n",
              "      <th>image_names</th>\n",
              "      <th>emergency_or_not</th>\n",
              "      <th>results</th>\n",
              "    </tr>\n",
              "  </thead>\n",
              "  <tbody>\n",
              "    <tr>\n",
              "      <th>0</th>\n",
              "      <td>1960.jpg</td>\n",
              "      <td>0</td>\n",
              "      <td>3.051052e-06</td>\n",
              "    </tr>\n",
              "    <tr>\n",
              "      <th>1</th>\n",
              "      <td>668.jpg</td>\n",
              "      <td>1</td>\n",
              "      <td>4.997466e+00</td>\n",
              "    </tr>\n",
              "    <tr>\n",
              "      <th>2</th>\n",
              "      <td>2082.jpg</td>\n",
              "      <td>0</td>\n",
              "      <td>1.083528e-07</td>\n",
              "    </tr>\n",
              "    <tr>\n",
              "      <th>3</th>\n",
              "      <td>808.jpg</td>\n",
              "      <td>1</td>\n",
              "      <td>4.998066e+00</td>\n",
              "    </tr>\n",
              "    <tr>\n",
              "      <th>4</th>\n",
              "      <td>1907.jpg</td>\n",
              "      <td>0</td>\n",
              "      <td>6.805246e-09</td>\n",
              "    </tr>\n",
              "    <tr>\n",
              "      <th>...</th>\n",
              "      <td>...</td>\n",
              "      <td>...</td>\n",
              "      <td>...</td>\n",
              "    </tr>\n",
              "    <tr>\n",
              "      <th>701</th>\n",
              "      <td>674.jpg</td>\n",
              "      <td>1</td>\n",
              "      <td>4.999930e+00</td>\n",
              "    </tr>\n",
              "    <tr>\n",
              "      <th>702</th>\n",
              "      <td>1027.jpg</td>\n",
              "      <td>0</td>\n",
              "      <td>6.064989e-05</td>\n",
              "    </tr>\n",
              "    <tr>\n",
              "      <th>703</th>\n",
              "      <td>447.jpg</td>\n",
              "      <td>1</td>\n",
              "      <td>4.998716e+00</td>\n",
              "    </tr>\n",
              "    <tr>\n",
              "      <th>704</th>\n",
              "      <td>2176.jpg</td>\n",
              "      <td>0</td>\n",
              "      <td>1.481521e-05</td>\n",
              "    </tr>\n",
              "    <tr>\n",
              "      <th>705</th>\n",
              "      <td>1014.jpg</td>\n",
              "      <td>0</td>\n",
              "      <td>5.671822e-04</td>\n",
              "    </tr>\n",
              "  </tbody>\n",
              "</table>\n",
              "<p>706 rows × 3 columns</p>\n",
              "</div>"
            ],
            "text/plain": [
              "    image_names  emergency_or_not       results\n",
              "0      1960.jpg                 0  3.051052e-06\n",
              "1       668.jpg                 1  4.997466e+00\n",
              "2      2082.jpg                 0  1.083528e-07\n",
              "3       808.jpg                 1  4.998066e+00\n",
              "4      1907.jpg                 0  6.805246e-09\n",
              "..          ...               ...           ...\n",
              "701     674.jpg                 1  4.999930e+00\n",
              "702    1027.jpg                 0  6.064989e-05\n",
              "703     447.jpg                 1  4.998716e+00\n",
              "704    2176.jpg                 0  1.481521e-05\n",
              "705    1014.jpg                 0  5.671822e-04\n",
              "\n",
              "[706 rows x 3 columns]"
            ]
          },
          "metadata": {
            "tags": []
          },
          "execution_count": 42
        }
      ]
    }
  ]
}