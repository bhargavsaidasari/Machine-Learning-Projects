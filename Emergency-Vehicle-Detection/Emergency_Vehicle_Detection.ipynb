{
  "nbformat": 4,
  "nbformat_minor": 0,
  "metadata": {
    "colab": {
      "name": "Emergency_Vehicle_Detection (2).ipynb",
      "provenance": [],
      "collapsed_sections": [],
      "toc_visible": true,
      "machine_shape": "hm"
    },
    "kernelspec": {
      "name": "python3",
      "display_name": "Python 3"
    },
    "accelerator": "GPU"
  },
  "cells": [
    {
      "cell_type": "code",
      "metadata": {
        "id": "E0PWB4pp95oF",
        "colab_type": "code",
        "colab": {
          "base_uri": "https://localhost:8080/",
          "height": 107
        },
        "outputId": "e8920995-7c9c-4ce9-ac53-3952341184dc"
      },
      "source": [
        "#!pip install -U skorch\n",
        "!pip install efficientnet_pytorch"
      ],
      "execution_count": 1,
      "outputs": [
        {
          "output_type": "stream",
          "text": [
            "Requirement already satisfied: efficientnet_pytorch in /usr/local/lib/python3.6/dist-packages (0.6.3)\n",
            "Requirement already satisfied: torch in /usr/local/lib/python3.6/dist-packages (from efficientnet_pytorch) (1.5.0+cu101)\n",
            "Requirement already satisfied: numpy in /usr/local/lib/python3.6/dist-packages (from torch->efficientnet_pytorch) (1.18.5)\n",
            "Requirement already satisfied: future in /usr/local/lib/python3.6/dist-packages (from torch->efficientnet_pytorch) (0.16.0)\n"
          ],
          "name": "stdout"
        }
      ]
    },
    {
      "cell_type": "code",
      "metadata": {
        "id": "Ns5FqJch8R6l",
        "colab_type": "code",
        "colab": {}
      },
      "source": [
        "import os\n",
        "import shutil\n",
        "import hashlib\n",
        "\n",
        "import numpy as np\n",
        "import pandas as pd\n",
        "import cv2\n",
        "\n",
        "%matplotlib inline\n",
        "import matplotlib.pyplot as plt\n",
        "\n",
        "from tqdm.notebook import tqdm\n",
        "from PIL import Image\n",
        "from efficientnet_pytorch import EfficientNet\n",
        "from sklearn.model_selection import KFold, StratifiedKFold\n",
        "from sklearn.metrics import roc_auc_score\n",
        "import albumentations as A\n",
        "from albumentations.pytorch import ToTensor"
      ],
      "execution_count": 2,
      "outputs": []
    },
    {
      "cell_type": "code",
      "metadata": {
        "id": "4pC2klDRwWKe",
        "colab_type": "code",
        "colab": {}
      },
      "source": [
        "import torch\n",
        "import torch.nn as nn\n",
        "import torch.nn.functional as F\n",
        "import torchvision\n",
        "import torch.optim as optim\n",
        "from torch.utils.data import DataLoader, Dataset\n",
        "from torchvision import transforms, models"
      ],
      "execution_count": 3,
      "outputs": []
    },
    {
      "cell_type": "code",
      "metadata": {
        "id": "NoqWsQqc9yD0",
        "colab_type": "code",
        "colab": {
          "base_uri": "https://localhost:8080/",
          "height": 55
        },
        "outputId": "d826de71-3bbb-4b6b-ce63-a24b6e083514"
      },
      "source": [
        "from google.colab import drive\n",
        "drive.mount('/content/drive')"
      ],
      "execution_count": 4,
      "outputs": [
        {
          "output_type": "stream",
          "text": [
            "Drive already mounted at /content/drive; to attempt to forcibly remount, call drive.mount(\"/content/drive\", force_remount=True).\n"
          ],
          "name": "stdout"
        }
      ]
    },
    {
      "cell_type": "code",
      "metadata": {
        "id": "mfDdJiBNKzJz",
        "colab_type": "code",
        "colab": {}
      },
      "source": [
        "DIR_IMAGES = \"/content/drive/My Drive/train_data/images/\"\n",
        "DIR_DF = \"/content/drive/My Drive/train_data/train.csv\"\n",
        "\n",
        "SIZE = 224\n",
        "BATCH_SIZE = 64\n",
        "SEED = 42\n",
        "MODEL_NAME = 'efficientnet-b0'"
      ],
      "execution_count": 17,
      "outputs": []
    },
    {
      "cell_type": "markdown",
      "metadata": {
        "id": "a717R5FlSUCt",
        "colab_type": "text"
      },
      "source": [
        "### Check the amount of data for each class\n"
      ]
    },
    {
      "cell_type": "code",
      "metadata": {
        "id": "duezoqt_8n_8",
        "colab_type": "code",
        "colab": {
          "base_uri": "https://localhost:8080/",
          "height": 69
        },
        "outputId": "65075298-10b6-47d0-f7d0-be062de5a244"
      },
      "source": [
        "train_data = pd.read_csv('/content/drive/My Drive/train_data/train.csv')\n",
        "train_data['emergency_or_not'].value_counts()"
      ],
      "execution_count": 6,
      "outputs": [
        {
          "output_type": "execute_result",
          "data": {
            "text/plain": [
              "0    965\n",
              "1    681\n",
              "Name: emergency_or_not, dtype: int64"
            ]
          },
          "metadata": {
            "tags": []
          },
          "execution_count": 6
        }
      ]
    },
    {
      "cell_type": "code",
      "metadata": {
        "id": "b01A6PXo92UI",
        "colab_type": "code",
        "colab": {
          "base_uri": "https://localhost:8080/",
          "height": 202
        },
        "outputId": "60b5c90b-444e-4167-a8aa-4be884117d58"
      },
      "source": [
        "train_data.head()"
      ],
      "execution_count": 7,
      "outputs": [
        {
          "output_type": "execute_result",
          "data": {
            "text/html": [
              "<div>\n",
              "<style scoped>\n",
              "    .dataframe tbody tr th:only-of-type {\n",
              "        vertical-align: middle;\n",
              "    }\n",
              "\n",
              "    .dataframe tbody tr th {\n",
              "        vertical-align: top;\n",
              "    }\n",
              "\n",
              "    .dataframe thead th {\n",
              "        text-align: right;\n",
              "    }\n",
              "</style>\n",
              "<table border=\"1\" class=\"dataframe\">\n",
              "  <thead>\n",
              "    <tr style=\"text-align: right;\">\n",
              "      <th></th>\n",
              "      <th>image_names</th>\n",
              "      <th>emergency_or_not</th>\n",
              "    </tr>\n",
              "  </thead>\n",
              "  <tbody>\n",
              "    <tr>\n",
              "      <th>0</th>\n",
              "      <td>1503.jpg</td>\n",
              "      <td>0</td>\n",
              "    </tr>\n",
              "    <tr>\n",
              "      <th>1</th>\n",
              "      <td>1420.jpg</td>\n",
              "      <td>0</td>\n",
              "    </tr>\n",
              "    <tr>\n",
              "      <th>2</th>\n",
              "      <td>1764.jpg</td>\n",
              "      <td>0</td>\n",
              "    </tr>\n",
              "    <tr>\n",
              "      <th>3</th>\n",
              "      <td>1356.jpg</td>\n",
              "      <td>0</td>\n",
              "    </tr>\n",
              "    <tr>\n",
              "      <th>4</th>\n",
              "      <td>1117.jpg</td>\n",
              "      <td>0</td>\n",
              "    </tr>\n",
              "  </tbody>\n",
              "</table>\n",
              "</div>"
            ],
            "text/plain": [
              "  image_names  emergency_or_not\n",
              "0    1503.jpg                 0\n",
              "1    1420.jpg                 0\n",
              "2    1764.jpg                 0\n",
              "3    1356.jpg                 0\n",
              "4    1117.jpg                 0"
            ]
          },
          "metadata": {
            "tags": []
          },
          "execution_count": 7
        }
      ]
    },
    {
      "cell_type": "markdown",
      "metadata": {
        "id": "PskMsgp6XlaI",
        "colab_type": "text"
      },
      "source": [
        "### Create Image metadata"
      ]
    },
    {
      "cell_type": "code",
      "metadata": {
        "id": "Y65eJR-jXplk",
        "colab_type": "code",
        "colab": {}
      },
      "source": [
        "def calculate_hash(im):\n",
        "    md5 = hashlib.md5()\n",
        "    md5.update(np.array(im).tostring())\n",
        "    \n",
        "    return md5.hexdigest()\n",
        "\n",
        "\n",
        "def get_image_meta(image_id, image_src, dataset='train'):\n",
        "    im = Image.open(image_src)\n",
        "    extrema = im.getextrema()\n",
        "\n",
        "    meta = {\n",
        "        'image_id': image_id,\n",
        "        'dataset': dataset,\n",
        "        'hash': calculate_hash(im),\n",
        "        'r_min': extrema[0][0],\n",
        "        'r_max': extrema[0][1],\n",
        "        'g_min': extrema[1][0],\n",
        "        'g_max': extrema[1][1],\n",
        "        'b_min': extrema[2][0],\n",
        "        'b_max': extrema[2][1],\n",
        "        'height': im.size[0],\n",
        "        'width': im.size[1],\n",
        "        'format': im.format,\n",
        "        'mode': im.mode\n",
        "    }\n",
        "    return meta"
      ],
      "execution_count": 8,
      "outputs": []
    },
    {
      "cell_type": "markdown",
      "metadata": {
        "id": "7B1ymsdUyLW5",
        "colab_type": "text"
      },
      "source": [
        "### Dataset Class"
      ]
    },
    {
      "cell_type": "code",
      "metadata": {
        "id": "Bdxnb0a3yM2h",
        "colab_type": "code",
        "colab": {}
      },
      "source": [
        "class VehicleDataset(Dataset):\n",
        "  \"\"\" Emergency Vehicles Dataset. \"\"\"\n",
        "  def __init__(self, dataframe, root_dir, transform=None, train=True):\n",
        "    \"\"\" \n",
        "    Parameters:\n",
        "      csv_file(string): Path to the csv file containing the labels.\n",
        "      root_dir(string): Path to the folder that contains the images.\n",
        "      transforms(callable): Optional transforms to be applied on a sample.\"\"\"\n",
        "    self.vehicles_frame = dataframe\n",
        "    self.root_dir = root_dir\n",
        "    self.transform = transform\n",
        "    self.train = train\n",
        "\n",
        "  def __len__(self):\n",
        "    return(self.vehicles_frame.shape[0])\n",
        "  \n",
        "  def __getitem__(self, idx):\n",
        "    img_name = self.root_dir + self.vehicles_frame['image_names'].iloc[idx]\n",
        "    image = cv2.imread(img_name, cv2.IMREAD_COLOR)\n",
        "    image = cv2.cvtColor(image, cv2.COLOR_BGR2RGB)\n",
        "    transformed = self.transform(image=image)\n",
        "    image = transformed['image']\n",
        "    if(self.train):\n",
        "      labels = torch.tensor(self.vehicles_frame['emergency_or_not'].iloc[idx])\n",
        "    else:\n",
        "      labels = idx\n",
        "    return(image, labels)"
      ],
      "execution_count": 23,
      "outputs": []
    },
    {
      "cell_type": "markdown",
      "metadata": {
        "id": "bdctvJPTTUS3",
        "colab_type": "text"
      },
      "source": [
        "### Define Transforms"
      ]
    },
    {
      "cell_type": "code",
      "metadata": {
        "id": "W7C4XvIHTV2N",
        "colab_type": "code",
        "colab": {}
      },
      "source": [
        "train_transform = A.Compose([\n",
        "    A.Resize(height=SIZE, width=SIZE, p=1),\n",
        "    A.HorizontalFlip(p=0.5),\n",
        "    A.VerticalFlip(p=0.5),\n",
        "    A.ShiftScaleRotate(rotate_limit=0.5, p=0.8),\n",
        "\n",
        "    # Pixels\n",
        "    A.OneOf([\n",
        "        A.IAAEmboss(p=1.0),\n",
        "        A.IAASharpen(p=1.0),\n",
        "        A.Blur(p=1.0),\n",
        "    ], p=0.5),\n",
        "\n",
        "    A.OneOf([\n",
        "        A.ElasticTransform(p=1.0),\n",
        "        A.IAAPiecewiseAffine(p=1.0)\n",
        "    ], p=0.5),\n",
        "    \n",
        "    A.Normalize(p=1.0),\n",
        "    ToTensor(),\n",
        "])\n",
        "\n",
        "transforms_valid = A.Compose([\n",
        "    A.Resize(height=SIZE, width=SIZE, p=1.0),\n",
        "    A.Normalize(p=1.0),\n",
        "    ToTensor(),\n",
        "])"
      ],
      "execution_count": 24,
      "outputs": []
    },
    {
      "cell_type": "markdown",
      "metadata": {
        "id": "RF6UfH7oFY-i",
        "colab_type": "text"
      },
      "source": [
        "### Test Dataset Class\n",
        "\n"
      ]
    },
    {
      "cell_type": "code",
      "metadata": {
        "id": "DY-RCBqzFHEI",
        "colab_type": "code",
        "colab": {}
      },
      "source": [
        "# train_dataset = VehicleDataset(train_data, DIR_IMAGES, train_transform)\n",
        "# train_dataloader = DataLoader(train_dataset, batch_size=32, shuffle=True)\n",
        "# images, labels = next(iter(train_dataloader))\n",
        "# del train_dataloader, train_dataset"
      ],
      "execution_count": 11,
      "outputs": []
    },
    {
      "cell_type": "markdown",
      "metadata": {
        "id": "A7AC4vcehacG",
        "colab_type": "text"
      },
      "source": [
        "###  V4 - EfficientNet Model\n"
      ]
    },
    {
      "cell_type": "code",
      "metadata": {
        "id": "14xlwIK3hdeO",
        "colab_type": "code",
        "colab": {
          "base_uri": "https://localhost:8080/",
          "height": 139
        },
        "outputId": "682dad38-d41c-4208-9e2e-67416da618fb"
      },
      "source": [
        "model = models.resnet50(pretrained=True)\n",
        "ct = 0\n",
        "for name, child in model.named_children():\n",
        "    ct += 1\n",
        "    if (ct < 8):\n",
        "      print(name)\n",
        "      for name2, params in child.named_parameters():\n",
        "        params.requires_grad = False"
      ],
      "execution_count": 58,
      "outputs": [
        {
          "output_type": "stream",
          "text": [
            "conv1\n",
            "bn1\n",
            "relu\n",
            "maxpool\n",
            "layer1\n",
            "layer2\n",
            "layer3\n"
          ],
          "name": "stdout"
        }
      ]
    },
    {
      "cell_type": "code",
      "metadata": {
        "id": "EaubjNSChfnH",
        "colab_type": "code",
        "colab": {}
      },
      "source": [
        "device = torch.device(\"cuda\" if torch.cuda.is_available() else \"cpu\")\n",
        "model.fc = nn.Sequential(nn.Linear(2048, 256),\n",
        "                                 nn.ReLU(),\n",
        "                                 nn.Dropout(p=0.5),\n",
        "                                 nn.Linear(256, 2),\n",
        "                                 nn.Softmax(dim=1))\n",
        "PATH = 'init.pth'\n",
        "torch.save(model.state_dict(), PATH)\n",
        "model.to(device);"
      ],
      "execution_count": 60,
      "outputs": []
    },
    {
      "cell_type": "code",
      "metadata": {
        "id": "WzxBV9cjHS28",
        "colab_type": "code",
        "colab": {}
      },
      "source": [
        "def compute_val_metrics(model, valid_loader):\n",
        "  model.eval()\n",
        "  validation_loss = 0\n",
        "  correct = 0\n",
        "  size = 0\n",
        "  with torch.no_grad():\n",
        "    for inputs, labels in valid_loader:\n",
        "      # Move data to the Cuda.\n",
        "      inputs, labels = inputs.to(device), labels.float().to(device)\n",
        "      # Compute the model outputs\n",
        "      output= model.forward(inputs)\n",
        "      # Compute loss function\n",
        "      loss = criterion(output[:, -1], labels)\n",
        "      validation_loss += loss\n",
        "      # Compute Result\n",
        "      result = output.max(axis=1)[1]\n",
        "      # Find the number of correctly classifid examples\n",
        "      correct += torch.sum(torch.eq(result.type(labels.type()), labels)).item()\n",
        "      # Find the total number of samples\n",
        "      size += labels.size(0)\n",
        "  return(validation_loss, (correct * 100 /size))\n",
        "\n",
        "\n",
        "def train_one_epoch(model, optmizer, train_loader, valid_loader):\n",
        "  train_loss = 0\n",
        "  model.train()\n",
        "  for inputs, labels in train_dataloader:\n",
        "    inputs, labels = inputs.to(device), labels.float().to(device)\n",
        "\n",
        "    optimizer.zero_grad()\n",
        "  \n",
        "    logps = model.forward(inputs)\n",
        "    loss = criterion(logps[:, -1], labels)\n",
        "    loss.backward()\n",
        "    optimizer.step()\n",
        "    train_loss += loss.item()\n",
        "  validation_loss, valid_accuracy = compute_val_metrics(model, valid_loader)\n",
        "  _, train_accuracy = compute_val_metrics(model, train_loader)\n",
        "  return(train_loss, validation_loss, valid_accuracy, train_accuracy)"
      ],
      "execution_count": 61,
      "outputs": []
    },
    {
      "cell_type": "code",
      "metadata": {
        "id": "G6d2GKuK9WPN",
        "colab_type": "code",
        "colab": {}
      },
      "source": [
        "folds = KFold(n_splits=5, shuffle=True, random_state=SEED)"
      ],
      "execution_count": 62,
      "outputs": []
    },
    {
      "cell_type": "code",
      "metadata": {
        "id": "EGzPcVTuo7ky",
        "colab_type": "code",
        "colab": {
          "base_uri": "https://localhost:8080/",
          "height": 1000
        },
        "outputId": "23cb8ae1-2eed-4259-ba40-c0137c9171d1"
      },
      "source": [
        "from collections import defaultdict\n",
        "\n",
        "\n",
        "for i_fold, (train_idx, valid_idx) in enumerate(folds.split(train_data)):\n",
        "  epochs = 10\n",
        "  # Dicts to store training and test accuracy\n",
        "\n",
        "  # Validation DataFrame\n",
        "  valid = train_data.iloc[valid_idx]\n",
        "  valid.reset_index(drop=True, inplace=True)\n",
        "  # Training DataFrame\n",
        "  train = train_data.iloc[train_idx]\n",
        "  train.reset_index(drop=True, inplace=True)\n",
        "  # Train DataLoader\n",
        "  train_dataset = VehicleDataset(train, DIR_IMAGES, train_transform)\n",
        "  train_dataloader = DataLoader(train_dataset, batch_size=BATCH_SIZE, shuffle=True)\n",
        "  # Valid Dataloder\n",
        "  valid_dataset = VehicleDataset(valid, DIR_IMAGES, transforms_valid)\n",
        "  valid_dataloader = DataLoader(valid_dataset, batch_size=BATCH_SIZE, shuffle=True)\n",
        "  # Reset model and loss functions every iteration\n",
        "  criterion = nn.BCELoss()\n",
        "  model.load_state_dict(torch.load(PATH)) \n",
        "  model.to(device);\n",
        "  parameters =  list(model.layer4.parameters()) + list(model.fc.parameters())\n",
        "  optimizer = optim.Adam(parameters, lr=0.0005, weight_decay=)\n",
        "  for epoch in range(epochs):\n",
        "    print(f\"Fold {i_fold}\")\n",
        "    train_loss, valid_loss, valid_accuracy, train_accuracy = train_one_epoch(model, optimizer, train_dataloader, valid_dataloader)\n",
        "\n",
        "    print(f\"Epoch {epoch+1}/{epochs}.. \"\n",
        "            f\"Train loss: {train_loss:.3f}.. \"\n",
        "            f\"Val Loss:{valid_loss:.3f}.. \"\n",
        "            f\"Val Accuracy:{valid_accuracy}..\"\n",
        "            f\"Train Accuracy:{train_accuracy}\")"
      ],
      "execution_count": 63,
      "outputs": [
        {
          "output_type": "stream",
          "text": [
            "Fold 0\n",
            "Epoch 1/10.. Train loss: 7.360.. Val Loss:3.109.. Val Accuracy:90.9090909090909..Train Accuracy:88.29787234042553\n",
            "Fold 0\n",
            "Epoch 2/10.. Train loss: 4.644.. Val Loss:1.277.. Val Accuracy:95.15151515151516..Train Accuracy:94.30091185410335\n",
            "Fold 0\n",
            "Epoch 3/10.. Train loss: 4.268.. Val Loss:1.070.. Val Accuracy:95.45454545454545..Train Accuracy:95.13677811550151\n",
            "Fold 0\n",
            "Epoch 4/10.. Train loss: 3.110.. Val Loss:0.713.. Val Accuracy:96.06060606060606..Train Accuracy:93.46504559270517\n",
            "Fold 0\n",
            "Epoch 5/10.. Train loss: 2.951.. Val Loss:0.724.. Val Accuracy:95.75757575757575..Train Accuracy:96.42857142857143\n",
            "Fold 0\n",
            "Epoch 6/10.. Train loss: 3.229.. Val Loss:0.881.. Val Accuracy:93.93939393939394..Train Accuracy:96.12462006079028\n",
            "Fold 0\n",
            "Epoch 7/10.. Train loss: 2.462.. Val Loss:0.904.. Val Accuracy:96.06060606060606..Train Accuracy:94.98480243161094\n",
            "Fold 0\n",
            "Epoch 8/10.. Train loss: 2.272.. Val Loss:0.619.. Val Accuracy:94.24242424242425..Train Accuracy:96.580547112462\n",
            "Fold 0\n",
            "Epoch 9/10.. Train loss: 2.385.. Val Loss:0.652.. Val Accuracy:96.36363636363636..Train Accuracy:97.64437689969606\n",
            "Fold 0\n",
            "Epoch 10/10.. Train loss: 2.112.. Val Loss:0.497.. Val Accuracy:96.96969696969697..Train Accuracy:97.26443768996961\n",
            "Fold 1\n",
            "Epoch 1/10.. Train loss: 7.850.. Val Loss:3.033.. Val Accuracy:92.40121580547113..Train Accuracy:92.9384965831435\n",
            "Fold 1\n",
            "Epoch 2/10.. Train loss: 4.140.. Val Loss:1.552.. Val Accuracy:92.40121580547113..Train Accuracy:95.06454062262718\n",
            "Fold 1\n",
            "Epoch 3/10.. Train loss: 2.891.. Val Loss:1.586.. Val Accuracy:91.48936170212765..Train Accuracy:93.77372817008353\n",
            "Fold 1\n",
            "Epoch 4/10.. Train loss: 3.289.. Val Loss:1.816.. Val Accuracy:93.31306990881458..Train Accuracy:94.9886104783599\n",
            "Fold 1\n",
            "Epoch 5/10.. Train loss: 2.850.. Val Loss:1.234.. Val Accuracy:93.61702127659575..Train Accuracy:95.82384206529993\n",
            "Fold 1\n",
            "Epoch 6/10.. Train loss: 2.001.. Val Loss:1.452.. Val Accuracy:93.00911854103343..Train Accuracy:96.35535307517084\n",
            "Fold 1\n",
            "Epoch 7/10.. Train loss: 2.317.. Val Loss:1.391.. Val Accuracy:92.40121580547113..Train Accuracy:97.11465451784359\n",
            "Fold 1\n",
            "Epoch 8/10.. Train loss: 2.403.. Val Loss:1.741.. Val Accuracy:94.22492401215806..Train Accuracy:98.10174639331815\n",
            "Fold 1\n",
            "Epoch 9/10.. Train loss: 2.070.. Val Loss:1.463.. Val Accuracy:93.61702127659575..Train Accuracy:95.21640091116173\n",
            "Fold 1\n",
            "Epoch 10/10.. Train loss: 1.919.. Val Loss:1.183.. Val Accuracy:93.9209726443769..Train Accuracy:97.3424449506454\n",
            "Fold 2\n",
            "Epoch 1/10.. Train loss: 7.504.. Val Loss:3.329.. Val Accuracy:86.32218844984803..Train Accuracy:88.61047835990888\n",
            "Fold 2\n",
            "Epoch 2/10.. Train loss: 5.136.. Val Loss:1.109.. Val Accuracy:95.13677811550151..Train Accuracy:94.30523917995444\n",
            "Fold 2\n",
            "Epoch 3/10.. Train loss: 4.206.. Val Loss:0.794.. Val Accuracy:95.44072948328268..Train Accuracy:94.83675018982537\n",
            "Fold 2\n",
            "Epoch 4/10.. Train loss: 3.328.. Val Loss:0.983.. Val Accuracy:95.13677811550151..Train Accuracy:95.292331055429\n",
            "Fold 2\n",
            "Epoch 5/10.. Train loss: 2.886.. Val Loss:0.921.. Val Accuracy:94.52887537993921..Train Accuracy:95.74791192103265\n",
            "Fold 2\n",
            "Epoch 6/10.. Train loss: 2.770.. Val Loss:1.070.. Val Accuracy:93.9209726443769..Train Accuracy:96.81093394077449\n",
            "Fold 2\n",
            "Epoch 7/10.. Train loss: 2.944.. Val Loss:0.689.. Val Accuracy:95.44072948328268..Train Accuracy:97.49430523917995\n",
            "Fold 2\n",
            "Epoch 8/10.. Train loss: 2.270.. Val Loss:0.916.. Val Accuracy:93.61702127659575..Train Accuracy:97.87395596051633\n",
            "Fold 2\n",
            "Epoch 9/10.. Train loss: 1.840.. Val Loss:1.232.. Val Accuracy:94.83282674772036..Train Accuracy:92.63477600607442\n",
            "Fold 2\n",
            "Epoch 10/10.. Train loss: 2.150.. Val Loss:1.831.. Val Accuracy:95.74468085106383..Train Accuracy:96.65907365223994\n",
            "Fold 3\n",
            "Epoch 1/10.. Train loss: 7.155.. Val Loss:1.110.. Val Accuracy:96.04863221884499..Train Accuracy:91.79954441913439\n",
            "Fold 3\n",
            "Epoch 2/10.. Train loss: 4.141.. Val Loss:1.871.. Val Accuracy:89.36170212765957..Train Accuracy:89.4457099468489\n",
            "Fold 3\n",
            "Epoch 3/10.. Train loss: 3.795.. Val Loss:0.833.. Val Accuracy:96.35258358662614..Train Accuracy:95.44419134396355\n",
            "Fold 3\n",
            "Epoch 4/10.. Train loss: 3.202.. Val Loss:0.674.. Val Accuracy:97.26443768996961..Train Accuracy:95.5960516324981\n",
            "Fold 3\n",
            "Epoch 5/10.. Train loss: 2.801.. Val Loss:1.432.. Val Accuracy:95.13677811550151..Train Accuracy:92.33105542900532\n",
            "Fold 3\n",
            "Epoch 6/10.. Train loss: 3.065.. Val Loss:0.499.. Val Accuracy:96.04863221884499..Train Accuracy:96.05163249810175\n",
            "Fold 3\n",
            "Epoch 7/10.. Train loss: 2.770.. Val Loss:0.520.. Val Accuracy:96.96048632218844..Train Accuracy:96.05163249810175\n",
            "Fold 3\n",
            "Epoch 8/10.. Train loss: 2.033.. Val Loss:0.695.. Val Accuracy:97.87234042553192..Train Accuracy:95.14047076689445\n",
            "Fold 3\n",
            "Epoch 9/10.. Train loss: 2.259.. Val Loss:0.689.. Val Accuracy:97.26443768996961..Train Accuracy:96.88686408504176\n",
            "Fold 3\n",
            "Epoch 10/10.. Train loss: 2.782.. Val Loss:1.688.. Val Accuracy:96.65653495440729..Train Accuracy:97.79802581624905\n",
            "Fold 4\n",
            "Epoch 1/10.. Train loss: 7.167.. Val Loss:2.436.. Val Accuracy:89.36170212765957..Train Accuracy:89.36977980258162\n",
            "Fold 4\n",
            "Epoch 2/10.. Train loss: 3.886.. Val Loss:1.332.. Val Accuracy:92.09726443768997..Train Accuracy:95.44419134396355\n",
            "Fold 4\n",
            "Epoch 3/10.. Train loss: 3.351.. Val Loss:1.179.. Val Accuracy:94.52887537993921..Train Accuracy:95.8997722095672\n",
            "Fold 4\n",
            "Epoch 4/10.. Train loss: 3.094.. Val Loss:0.846.. Val Accuracy:93.61702127659575..Train Accuracy:96.27942293090356\n",
            "Fold 4\n",
            "Epoch 5/10.. Train loss: 2.189.. Val Loss:1.651.. Val Accuracy:93.61702127659575..Train Accuracy:96.58314350797266\n",
            "Fold 4\n",
            "Epoch 6/10.. Train loss: 1.834.. Val Loss:1.225.. Val Accuracy:92.70516717325228..Train Accuracy:96.73500379650721\n",
            "Fold 4\n",
            "Epoch 7/10.. Train loss: 2.186.. Val Loss:2.486.. Val Accuracy:93.61702127659575..Train Accuracy:95.82384206529993\n",
            "Fold 4\n",
            "Epoch 8/10.. Train loss: 2.028.. Val Loss:0.922.. Val Accuracy:94.52887537993921..Train Accuracy:97.72209567198178\n",
            "Fold 4\n",
            "Epoch 9/10.. Train loss: 1.785.. Val Loss:1.402.. Val Accuracy:94.22492401215806..Train Accuracy:96.20349278663629\n",
            "Fold 4\n",
            "Epoch 10/10.. Train loss: 1.535.. Val Loss:1.508.. Val Accuracy:94.52887537993921..Train Accuracy:97.79802581624905\n"
          ],
          "name": "stdout"
        }
      ]
    },
    {
      "cell_type": "markdown",
      "metadata": {
        "id": "yasEZ-j6yZHd",
        "colab_type": "text"
      },
      "source": [
        "### Evaluate accuracy on the training set\n"
      ]
    },
    {
      "cell_type": "code",
      "metadata": {
        "id": "SNlJPFb1ydpl",
        "colab_type": "code",
        "colab": {
          "base_uri": "https://localhost:8080/",
          "height": 124
        },
        "outputId": "63fe3012-7b51-433a-d5a7-8da7ae7c4d18"
      },
      "source": [
        "test_train_dataset = VehicleDataset(DIR_DF, DIR_IMAGES, train_transform, False)\n",
        "test_train_dataloader = DataLoader(test_train_dataset, batch_size=64, shuffle=True)\n",
        "train_data['results'] = 0\n",
        "model.eval()\n",
        "with torch.no_grad():\n",
        "  for image_id, index in test_train_dataloader:\n",
        "    image_id = image_id.cuda()\n",
        "    output = model(image_id)\n",
        "    result = output.max(axis=1)[1].cpu().numpy()\n",
        "    train_data['results'].iloc[index] = result\n"
      ],
      "execution_count": null,
      "outputs": [
        {
          "output_type": "stream",
          "text": [
            "/usr/local/lib/python3.6/dist-packages/pandas/core/indexing.py:671: SettingWithCopyWarning: \n",
            "A value is trying to be set on a copy of a slice from a DataFrame\n",
            "\n",
            "See the caveats in the documentation: https://pandas.pydata.org/pandas-docs/stable/user_guide/indexing.html#returning-a-view-versus-a-copy\n",
            "  self._setitem_with_indexer(indexer, value)\n"
          ],
          "name": "stderr"
        }
      ]
    },
    {
      "cell_type": "code",
      "metadata": {
        "id": "miStj0H21Y7K",
        "colab_type": "code",
        "colab": {
          "base_uri": "https://localhost:8080/",
          "height": 35
        },
        "outputId": "65b88ab2-8042-499b-d31f-769099dc1cd7"
      },
      "source": [
        "train_accuracy = (1 - (np.abs(train_data['results'] - train_data['emergency_or_not']).sum() / train_data.shape[0]))\n",
        "train_accuracy"
      ],
      "execution_count": null,
      "outputs": [
        {
          "output_type": "execute_result",
          "data": {
            "text/plain": [
              "0.9951397326852977"
            ]
          },
          "metadata": {
            "tags": []
          },
          "execution_count": 49
        }
      ]
    },
    {
      "cell_type": "markdown",
      "metadata": {
        "id": "3vbxQ-NY2Zke",
        "colab_type": "text"
      },
      "source": [
        "### Sumbit the model and report test accuracy\n"
      ]
    },
    {
      "cell_type": "code",
      "metadata": {
        "id": "n3VSrc0VwyBR",
        "colab_type": "code",
        "colab": {}
      },
      "source": [
        "test_df = pd.read_csv('/content/drive/My Drive/train_data/test_vc2kHdQ.csv')\n",
        "test_df['emergency_or_not'] = 0\n",
        "test_dataset = VehicleDataset('/content/drive/My Drive/train_data/test_vc2kHdQ.csv', DIR_IMAGES, transforms_valid, False)\n",
        "test_dataloader = DataLoader(test_dataset, batch_size=64, shuffle=True)"
      ],
      "execution_count": null,
      "outputs": []
    },
    {
      "cell_type": "code",
      "metadata": {
        "id": "nr263wT_4bfk",
        "colab_type": "code",
        "colab": {}
      },
      "source": [
        "model.eval()\n",
        "with torch.no_grad():\n",
        "  for image_id, index in test_dataloader:\n",
        "    image_id = image_id.cuda()\n",
        "    output = model(image_id)\n",
        "    result = output.max(axis=1)[1].cpu().numpy()\n",
        "    test_df['emergency_or_not'].iloc[index] = result"
      ],
      "execution_count": null,
      "outputs": []
    },
    {
      "cell_type": "code",
      "metadata": {
        "id": "cMTGMdu_SaRI",
        "colab_type": "code",
        "colab": {}
      },
      "source": [
        "test_df.to_csv('results.csv')"
      ],
      "execution_count": null,
      "outputs": []
    }
  ]
}