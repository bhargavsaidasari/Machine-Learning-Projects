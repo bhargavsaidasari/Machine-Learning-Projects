{
  "nbformat": 4,
  "nbformat_minor": 0,
  "metadata": {
    "colab": {
      "name": "Emergency-Vehicle Detection",
      "provenance": [],
      "collapsed_sections": [],
      "toc_visible": true
    },
    "kernelspec": {
      "name": "python3",
      "display_name": "Python 3"
    },
    "accelerator": "GPU",
    "widgets": {
      "application/vnd.jupyter.widget-state+json": {
        "d44e367c00dc4bab873422faf73afd1c": {
          "model_module": "@jupyter-widgets/controls",
          "model_name": "HBoxModel",
          "state": {
            "_view_name": "HBoxView",
            "_dom_classes": [],
            "_model_name": "HBoxModel",
            "_view_module": "@jupyter-widgets/controls",
            "_model_module_version": "1.5.0",
            "_view_count": null,
            "_view_module_version": "1.5.0",
            "box_style": "",
            "layout": "IPY_MODEL_271f6fa3581c4ff990727f1ccccd62ab",
            "_model_module": "@jupyter-widgets/controls",
            "children": [
              "IPY_MODEL_63798eca60744da8937e2d607dda72f9",
              "IPY_MODEL_77713265c94b4f05931d454706e66188"
            ]
          }
        },
        "271f6fa3581c4ff990727f1ccccd62ab": {
          "model_module": "@jupyter-widgets/base",
          "model_name": "LayoutModel",
          "state": {
            "_view_name": "LayoutView",
            "grid_template_rows": null,
            "right": null,
            "justify_content": null,
            "_view_module": "@jupyter-widgets/base",
            "overflow": null,
            "_model_module_version": "1.2.0",
            "_view_count": null,
            "flex_flow": null,
            "width": null,
            "min_width": null,
            "border": null,
            "align_items": null,
            "bottom": null,
            "_model_module": "@jupyter-widgets/base",
            "top": null,
            "grid_column": null,
            "overflow_y": null,
            "overflow_x": null,
            "grid_auto_flow": null,
            "grid_area": null,
            "grid_template_columns": null,
            "flex": null,
            "_model_name": "LayoutModel",
            "justify_items": null,
            "grid_row": null,
            "max_height": null,
            "align_content": null,
            "visibility": null,
            "align_self": null,
            "height": null,
            "min_height": null,
            "padding": null,
            "grid_auto_rows": null,
            "grid_gap": null,
            "max_width": null,
            "order": null,
            "_view_module_version": "1.2.0",
            "grid_template_areas": null,
            "object_position": null,
            "object_fit": null,
            "grid_auto_columns": null,
            "margin": null,
            "display": null,
            "left": null
          }
        },
        "63798eca60744da8937e2d607dda72f9": {
          "model_module": "@jupyter-widgets/controls",
          "model_name": "FloatProgressModel",
          "state": {
            "_view_name": "ProgressView",
            "style": "IPY_MODEL_ba6ae26aed784287a961f4bbb941ac80",
            "_dom_classes": [],
            "description": "100%",
            "_model_name": "FloatProgressModel",
            "bar_style": "success",
            "max": 32342954,
            "_view_module": "@jupyter-widgets/controls",
            "_model_module_version": "1.5.0",
            "value": 32342954,
            "_view_count": null,
            "_view_module_version": "1.5.0",
            "orientation": "horizontal",
            "min": 0,
            "description_tooltip": null,
            "_model_module": "@jupyter-widgets/controls",
            "layout": "IPY_MODEL_8511135ad0404eca971a711916567a73"
          }
        },
        "77713265c94b4f05931d454706e66188": {
          "model_module": "@jupyter-widgets/controls",
          "model_name": "HTMLModel",
          "state": {
            "_view_name": "HTMLView",
            "style": "IPY_MODEL_b20c685b1e414493a6ec07371396dd36",
            "_dom_classes": [],
            "description": "",
            "_model_name": "HTMLModel",
            "placeholder": "​",
            "_view_module": "@jupyter-widgets/controls",
            "_model_module_version": "1.5.0",
            "value": " 30.8M/30.8M [08:22&lt;00:00, 64.3kB/s]",
            "_view_count": null,
            "_view_module_version": "1.5.0",
            "description_tooltip": null,
            "_model_module": "@jupyter-widgets/controls",
            "layout": "IPY_MODEL_ca8addd8ef734bcd972dc1a0fa30a909"
          }
        },
        "ba6ae26aed784287a961f4bbb941ac80": {
          "model_module": "@jupyter-widgets/controls",
          "model_name": "ProgressStyleModel",
          "state": {
            "_view_name": "StyleView",
            "_model_name": "ProgressStyleModel",
            "description_width": "initial",
            "_view_module": "@jupyter-widgets/base",
            "_model_module_version": "1.5.0",
            "_view_count": null,
            "_view_module_version": "1.2.0",
            "bar_color": null,
            "_model_module": "@jupyter-widgets/controls"
          }
        },
        "8511135ad0404eca971a711916567a73": {
          "model_module": "@jupyter-widgets/base",
          "model_name": "LayoutModel",
          "state": {
            "_view_name": "LayoutView",
            "grid_template_rows": null,
            "right": null,
            "justify_content": null,
            "_view_module": "@jupyter-widgets/base",
            "overflow": null,
            "_model_module_version": "1.2.0",
            "_view_count": null,
            "flex_flow": null,
            "width": null,
            "min_width": null,
            "border": null,
            "align_items": null,
            "bottom": null,
            "_model_module": "@jupyter-widgets/base",
            "top": null,
            "grid_column": null,
            "overflow_y": null,
            "overflow_x": null,
            "grid_auto_flow": null,
            "grid_area": null,
            "grid_template_columns": null,
            "flex": null,
            "_model_name": "LayoutModel",
            "justify_items": null,
            "grid_row": null,
            "max_height": null,
            "align_content": null,
            "visibility": null,
            "align_self": null,
            "height": null,
            "min_height": null,
            "padding": null,
            "grid_auto_rows": null,
            "grid_gap": null,
            "max_width": null,
            "order": null,
            "_view_module_version": "1.2.0",
            "grid_template_areas": null,
            "object_position": null,
            "object_fit": null,
            "grid_auto_columns": null,
            "margin": null,
            "display": null,
            "left": null
          }
        },
        "b20c685b1e414493a6ec07371396dd36": {
          "model_module": "@jupyter-widgets/controls",
          "model_name": "DescriptionStyleModel",
          "state": {
            "_view_name": "StyleView",
            "_model_name": "DescriptionStyleModel",
            "description_width": "",
            "_view_module": "@jupyter-widgets/base",
            "_model_module_version": "1.5.0",
            "_view_count": null,
            "_view_module_version": "1.2.0",
            "_model_module": "@jupyter-widgets/controls"
          }
        },
        "ca8addd8ef734bcd972dc1a0fa30a909": {
          "model_module": "@jupyter-widgets/base",
          "model_name": "LayoutModel",
          "state": {
            "_view_name": "LayoutView",
            "grid_template_rows": null,
            "right": null,
            "justify_content": null,
            "_view_module": "@jupyter-widgets/base",
            "overflow": null,
            "_model_module_version": "1.2.0",
            "_view_count": null,
            "flex_flow": null,
            "width": null,
            "min_width": null,
            "border": null,
            "align_items": null,
            "bottom": null,
            "_model_module": "@jupyter-widgets/base",
            "top": null,
            "grid_column": null,
            "overflow_y": null,
            "overflow_x": null,
            "grid_auto_flow": null,
            "grid_area": null,
            "grid_template_columns": null,
            "flex": null,
            "_model_name": "LayoutModel",
            "justify_items": null,
            "grid_row": null,
            "max_height": null,
            "align_content": null,
            "visibility": null,
            "align_self": null,
            "height": null,
            "min_height": null,
            "padding": null,
            "grid_auto_rows": null,
            "grid_gap": null,
            "max_width": null,
            "order": null,
            "_view_module_version": "1.2.0",
            "grid_template_areas": null,
            "object_position": null,
            "object_fit": null,
            "grid_auto_columns": null,
            "margin": null,
            "display": null,
            "left": null
          }
        }
      }
    }
  },
  "cells": [
    {
      "cell_type": "code",
      "metadata": {
        "id": "E0PWB4pp95oF",
        "colab_type": "code",
        "outputId": "aed2196f-e80b-4c56-a8b9-464a049325c3",
        "colab": {
          "base_uri": "https://localhost:8080/",
          "height": 228
        }
      },
      "source": [
        "!pip install -U skorch"
      ],
      "execution_count": 1,
      "outputs": [
        {
          "output_type": "stream",
          "text": [
            "Collecting skorch\n",
            "\u001b[?25l  Downloading https://files.pythonhosted.org/packages/42/21/4936b881b33de285faa0b36209afe4f9724a0875b2225abdc63b23d384a3/skorch-0.8.0-py3-none-any.whl (113kB)\n",
            "\r\u001b[K     |██▉                             | 10kB 9.0MB/s eta 0:00:01\r\u001b[K     |█████▊                          | 20kB 1.8MB/s eta 0:00:01\r\u001b[K     |████████▋                       | 30kB 2.2MB/s eta 0:00:01\r\u001b[K     |███████████▌                    | 40kB 2.5MB/s eta 0:00:01\r\u001b[K     |██████████████▍                 | 51kB 2.0MB/s eta 0:00:01\r\u001b[K     |█████████████████▎              | 61kB 2.3MB/s eta 0:00:01\r\u001b[K     |████████████████████▏           | 71kB 2.5MB/s eta 0:00:01\r\u001b[K     |███████████████████████         | 81kB 2.8MB/s eta 0:00:01\r\u001b[K     |██████████████████████████      | 92kB 3.0MB/s eta 0:00:01\r\u001b[K     |████████████████████████████▉   | 102kB 2.8MB/s eta 0:00:01\r\u001b[K     |███████████████████████████████▊| 112kB 2.8MB/s eta 0:00:01\r\u001b[K     |████████████████████████████████| 122kB 2.8MB/s \n",
            "\u001b[?25hRequirement already satisfied, skipping upgrade: tqdm>=4.14.0 in /usr/local/lib/python3.6/dist-packages (from skorch) (4.41.1)\n",
            "Requirement already satisfied, skipping upgrade: scipy>=1.1.0 in /usr/local/lib/python3.6/dist-packages (from skorch) (1.4.1)\n",
            "Requirement already satisfied, skipping upgrade: numpy>=1.13.3 in /usr/local/lib/python3.6/dist-packages (from skorch) (1.18.5)\n",
            "Requirement already satisfied, skipping upgrade: scikit-learn>=0.19.1 in /usr/local/lib/python3.6/dist-packages (from skorch) (0.22.2.post1)\n",
            "Requirement already satisfied, skipping upgrade: tabulate>=0.7.7 in /usr/local/lib/python3.6/dist-packages (from skorch) (0.8.7)\n",
            "Requirement already satisfied, skipping upgrade: joblib>=0.11 in /usr/local/lib/python3.6/dist-packages (from scikit-learn>=0.19.1->skorch) (0.15.1)\n",
            "Installing collected packages: skorch\n",
            "Successfully installed skorch-0.8.0\n"
          ],
          "name": "stdout"
        }
      ]
    },
    {
      "cell_type": "code",
      "metadata": {
        "id": "Ns5FqJch8R6l",
        "colab_type": "code",
        "colab": {}
      },
      "source": [
        "import os\n",
        "import shutil\n",
        "import hashlib\n",
        "\n",
        "import numpy as np\n",
        "import pandas as pd\n",
        "import cv2\n",
        "\n",
        "%matplotlib inline\n",
        "import matplotlib.pyplot as plt\n",
        "\n",
        "from tqdm.notebook import tqdm\n",
        "from PIL import Image\n",
        "from skorch import NeuralNetClassifier\n",
        "from sklearn.model_selection import KFold, StratifiedKFold\n",
        "from sklearn.metrics import roc_auc_score\n",
        "import albumentations as A\n",
        "from albumentations.pytorch import ToTensor"
      ],
      "execution_count": 0,
      "outputs": []
    },
    {
      "cell_type": "code",
      "metadata": {
        "id": "4pC2klDRwWKe",
        "colab_type": "code",
        "colab": {}
      },
      "source": [
        "import torch\n",
        "import torch.nn as nn\n",
        "import torch.nn.functional as F\n",
        "import torchvision\n",
        "import torch.optim as optim\n",
        "from torch.utils.data import DataLoader, Dataset\n",
        "from torchvision import transforms, models"
      ],
      "execution_count": 0,
      "outputs": []
    },
    {
      "cell_type": "code",
      "metadata": {
        "id": "NoqWsQqc9yD0",
        "colab_type": "code",
        "outputId": "700d8e08-03cc-4f69-fa00-dafecb02cd8a",
        "colab": {
          "base_uri": "https://localhost:8080/",
          "height": 124
        }
      },
      "source": [
        "from google.colab import drive\n",
        "drive.mount('/content/drive')"
      ],
      "execution_count": 4,
      "outputs": [
        {
          "output_type": "stream",
          "text": [
            "Go to this URL in a browser: https://accounts.google.com/o/oauth2/auth?client_id=947318989803-6bn6qk8qdgf4n4g3pfee6491hc0brc4i.apps.googleusercontent.com&redirect_uri=urn%3aietf%3awg%3aoauth%3a2.0%3aoob&response_type=code&scope=email%20https%3a%2f%2fwww.googleapis.com%2fauth%2fdocs.test%20https%3a%2f%2fwww.googleapis.com%2fauth%2fdrive%20https%3a%2f%2fwww.googleapis.com%2fauth%2fdrive.photos.readonly%20https%3a%2f%2fwww.googleapis.com%2fauth%2fpeopleapi.readonly\n",
            "\n",
            "Enter your authorization code:\n",
            "··········\n",
            "Mounted at /content/drive\n"
          ],
          "name": "stdout"
        }
      ]
    },
    {
      "cell_type": "code",
      "metadata": {
        "id": "mfDdJiBNKzJz",
        "colab_type": "code",
        "colab": {}
      },
      "source": [
        "DIR_IMAGES = \"/content/drive/My Drive/train_data/images/\"\n",
        "DIR_DF = \"/content/drive/My Drive/train_data/train.csv\"\n",
        "\n",
        "SIZE = 224\n",
        "BATCH_SIZE = 32"
      ],
      "execution_count": 0,
      "outputs": []
    },
    {
      "cell_type": "markdown",
      "metadata": {
        "id": "a717R5FlSUCt",
        "colab_type": "text"
      },
      "source": [
        "### Check the amount of data for each class\n"
      ]
    },
    {
      "cell_type": "code",
      "metadata": {
        "id": "duezoqt_8n_8",
        "colab_type": "code",
        "outputId": "176cef09-2598-4227-df2a-dad230fff3db",
        "colab": {
          "base_uri": "https://localhost:8080/",
          "height": 69
        }
      },
      "source": [
        "train_data = pd.read_csv('/content/drive/My Drive/train_data/train.csv')\n",
        "train_data['emergency_or_not'].value_counts()"
      ],
      "execution_count": 6,
      "outputs": [
        {
          "output_type": "execute_result",
          "data": {
            "text/plain": [
              "0    965\n",
              "1    681\n",
              "Name: emergency_or_not, dtype: int64"
            ]
          },
          "metadata": {
            "tags": []
          },
          "execution_count": 6
        }
      ]
    },
    {
      "cell_type": "code",
      "metadata": {
        "id": "b01A6PXo92UI",
        "colab_type": "code",
        "outputId": "8f743adb-23f5-4aac-ac95-289ca125f15f",
        "colab": {
          "base_uri": "https://localhost:8080/",
          "height": 202
        }
      },
      "source": [
        "train_data.head()"
      ],
      "execution_count": 7,
      "outputs": [
        {
          "output_type": "execute_result",
          "data": {
            "text/html": [
              "<div>\n",
              "<style scoped>\n",
              "    .dataframe tbody tr th:only-of-type {\n",
              "        vertical-align: middle;\n",
              "    }\n",
              "\n",
              "    .dataframe tbody tr th {\n",
              "        vertical-align: top;\n",
              "    }\n",
              "\n",
              "    .dataframe thead th {\n",
              "        text-align: right;\n",
              "    }\n",
              "</style>\n",
              "<table border=\"1\" class=\"dataframe\">\n",
              "  <thead>\n",
              "    <tr style=\"text-align: right;\">\n",
              "      <th></th>\n",
              "      <th>image_names</th>\n",
              "      <th>emergency_or_not</th>\n",
              "    </tr>\n",
              "  </thead>\n",
              "  <tbody>\n",
              "    <tr>\n",
              "      <th>0</th>\n",
              "      <td>1503.jpg</td>\n",
              "      <td>0</td>\n",
              "    </tr>\n",
              "    <tr>\n",
              "      <th>1</th>\n",
              "      <td>1420.jpg</td>\n",
              "      <td>0</td>\n",
              "    </tr>\n",
              "    <tr>\n",
              "      <th>2</th>\n",
              "      <td>1764.jpg</td>\n",
              "      <td>0</td>\n",
              "    </tr>\n",
              "    <tr>\n",
              "      <th>3</th>\n",
              "      <td>1356.jpg</td>\n",
              "      <td>0</td>\n",
              "    </tr>\n",
              "    <tr>\n",
              "      <th>4</th>\n",
              "      <td>1117.jpg</td>\n",
              "      <td>0</td>\n",
              "    </tr>\n",
              "  </tbody>\n",
              "</table>\n",
              "</div>"
            ],
            "text/plain": [
              "  image_names  emergency_or_not\n",
              "0    1503.jpg                 0\n",
              "1    1420.jpg                 0\n",
              "2    1764.jpg                 0\n",
              "3    1356.jpg                 0\n",
              "4    1117.jpg                 0"
            ]
          },
          "metadata": {
            "tags": []
          },
          "execution_count": 7
        }
      ]
    },
    {
      "cell_type": "markdown",
      "metadata": {
        "id": "PskMsgp6XlaI",
        "colab_type": "text"
      },
      "source": [
        "### Create Image metadata"
      ]
    },
    {
      "cell_type": "code",
      "metadata": {
        "id": "Y65eJR-jXplk",
        "colab_type": "code",
        "colab": {}
      },
      "source": [
        "def calculate_hash(im):\n",
        "    md5 = hashlib.md5()\n",
        "    md5.update(np.array(im).tostring())\n",
        "    \n",
        "    return md5.hexdigest()\n",
        "\n",
        "\n",
        "def get_image_meta(image_id, image_src, dataset='train'):\n",
        "    im = Image.open(image_src)\n",
        "    extrema = im.getextrema()\n",
        "\n",
        "    meta = {\n",
        "        'image_id': image_id,\n",
        "        'dataset': dataset,\n",
        "        'hash': calculate_hash(im),\n",
        "        'r_min': extrema[0][0],\n",
        "        'r_max': extrema[0][1],\n",
        "        'g_min': extrema[1][0],\n",
        "        'g_max': extrema[1][1],\n",
        "        'b_min': extrema[2][0],\n",
        "        'b_max': extrema[2][1],\n",
        "        'height': im.size[0],\n",
        "        'width': im.size[1],\n",
        "        'format': im.format,\n",
        "        'mode': im.mode\n",
        "    }\n",
        "    return meta"
      ],
      "execution_count": 0,
      "outputs": []
    },
    {
      "cell_type": "markdown",
      "metadata": {
        "id": "7B1ymsdUyLW5",
        "colab_type": "text"
      },
      "source": [
        "### Dataset Class"
      ]
    },
    {
      "cell_type": "code",
      "metadata": {
        "id": "Bdxnb0a3yM2h",
        "colab_type": "code",
        "colab": {}
      },
      "source": [
        "class VehicleDataset(Dataset):\n",
        "  \"\"\" Emergency Vehicles Dataset. \"\"\"\n",
        "  def __init__(self, csv_file, root_dir, transform=None, train=True):\n",
        "    \"\"\" \n",
        "    Parameters:\n",
        "      csv_file(string): Path to the csv file containing the labels.\n",
        "      root_dir(string): Path to the folder that contains the images.\n",
        "      transforms(callable): Optional transforms to be applied on a sample.\"\"\"\n",
        "    self.vehicles_frame = pd.read_csv(csv_file)\n",
        "    self.root_dir = root_dir\n",
        "    self.transform = transform\n",
        "    self.train = train\n",
        "\n",
        "  def __len__(self):\n",
        "    return(self.vehicles_frame.shape[0])\n",
        "  \n",
        "  def __getitem__(self, idx):\n",
        "    img_name = self.root_dir + self.vehicles_frame['image_names'].iloc[idx]\n",
        "    image = cv2.imread(img_name, cv2.IMREAD_COLOR)\n",
        "    image = cv2.cvtColor(image, cv2.COLOR_BGR2RGB)\n",
        "    transformed = self.transform(image=image)\n",
        "    image = transformed['image']\n",
        "    if(self.train):\n",
        "      labels = torch.tensor(self.vehicles_frame['emergency_or_not'].iloc[idx])\n",
        "    else:\n",
        "      labels = idx\n",
        "    return(image, labels)"
      ],
      "execution_count": 0,
      "outputs": []
    },
    {
      "cell_type": "markdown",
      "metadata": {
        "id": "bdctvJPTTUS3",
        "colab_type": "text"
      },
      "source": [
        "### Define Transforms"
      ]
    },
    {
      "cell_type": "code",
      "metadata": {
        "id": "W7C4XvIHTV2N",
        "colab_type": "code",
        "colab": {}
      },
      "source": [
        "train_transform = A.Compose([\n",
        "    A.Resize(height=SIZE, width=SIZE, p=1),\n",
        "    A.HorizontalFlip(p=0.3),\n",
        "    A.VerticalFlip(p=0.3),\n",
        "    A.ShiftScaleRotate(rotate_limit=0.5, p=0.8),\n",
        "\n",
        "    # Pixels\n",
        "    A.OneOf([\n",
        "        A.IAAEmboss(p=1.0),\n",
        "        A.IAASharpen(p=1.0),\n",
        "        A.Blur(p=1.0),\n",
        "    ], p=0.5),\n",
        "\n",
        "    A.Normalize(p=1.0),\n",
        "    ToTensor(),\n",
        "])\n",
        "\n",
        "transforms_valid = A.Compose([\n",
        "    A.Resize(height=SIZE, width=SIZE, p=1.0),\n",
        "    A.Normalize(p=1.0),\n",
        "    ToTensor(),\n",
        "])"
      ],
      "execution_count": 0,
      "outputs": []
    },
    {
      "cell_type": "markdown",
      "metadata": {
        "id": "RF6UfH7oFY-i",
        "colab_type": "text"
      },
      "source": [
        "### Test Dataset Class\n",
        "\n"
      ]
    },
    {
      "cell_type": "code",
      "metadata": {
        "id": "DY-RCBqzFHEI",
        "colab_type": "code",
        "colab": {}
      },
      "source": [
        "train_dataset = VehicleDataset(DIR_DF, DIR_IMAGES, train_transform)\n",
        "train_dataloader = DataLoader(train_dataset, batch_size=32, shuffle=True)\n",
        "images, labels = next(iter(train_dataloader))"
      ],
      "execution_count": 0,
      "outputs": []
    },
    {
      "cell_type": "markdown",
      "metadata": {
        "id": "A7AC4vcehacG",
        "colab_type": "text"
      },
      "source": [
        "###  V1 - DenseNet Model\n"
      ]
    },
    {
      "cell_type": "code",
      "metadata": {
        "id": "14xlwIK3hdeO",
        "colab_type": "code",
        "outputId": "e4b02099-7b96-4e64-960d-4ef5dbec2098",
        "colab": {
          "base_uri": "https://localhost:8080/",
          "height": 104,
          "referenced_widgets": [
            "d44e367c00dc4bab873422faf73afd1c",
            "271f6fa3581c4ff990727f1ccccd62ab",
            "63798eca60744da8937e2d607dda72f9",
            "77713265c94b4f05931d454706e66188",
            "ba6ae26aed784287a961f4bbb941ac80",
            "8511135ad0404eca971a711916567a73",
            "b20c685b1e414493a6ec07371396dd36",
            "ca8addd8ef734bcd972dc1a0fa30a909"
          ]
        }
      },
      "source": [
        "model = models.densenet121(pretrained=True)\n",
        "for param in model.parameters():\n",
        "    param.requires_grad = False"
      ],
      "execution_count": 12,
      "outputs": [
        {
          "output_type": "stream",
          "text": [
            "Downloading: \"https://download.pytorch.org/models/densenet121-a639ec97.pth\" to /root/.cache/torch/checkpoints/densenet121-a639ec97.pth\n"
          ],
          "name": "stderr"
        },
        {
          "output_type": "display_data",
          "data": {
            "application/vnd.jupyter.widget-view+json": {
              "model_id": "d44e367c00dc4bab873422faf73afd1c",
              "version_minor": 0,
              "version_major": 2
            },
            "text/plain": [
              "HBox(children=(FloatProgress(value=0.0, max=32342954.0), HTML(value='')))"
            ]
          },
          "metadata": {
            "tags": []
          }
        },
        {
          "output_type": "stream",
          "text": [
            "\n"
          ],
          "name": "stdout"
        }
      ]
    },
    {
      "cell_type": "code",
      "metadata": {
        "id": "EaubjNSChfnH",
        "colab_type": "code",
        "colab": {}
      },
      "source": [
        "device = torch.device(\"cuda\" if torch.cuda.is_available() else \"cpu\")\n",
        "\n",
        "model.classifier = nn.Sequential(nn.Linear(1024, 256),\n",
        "                                 nn.ReLU(),\n",
        "                                 nn.Dropout(0.2),\n",
        "                                 nn.Linear(256, 2),\n",
        "                                 nn.Softmax(dim=1))\n",
        "criterion = nn.BCELoss()\n",
        "optimizer = optim.Adam(model.classifier.parameters(), lr=0.003)\n",
        "model.to(device);"
      ],
      "execution_count": 0,
      "outputs": []
    },
    {
      "cell_type": "code",
      "metadata": {
        "id": "EGzPcVTuo7ky",
        "colab_type": "code",
        "outputId": "82050feb-1cd1-40d8-e786-4ea528895208",
        "colab": {
          "base_uri": "https://localhost:8080/",
          "height": 555
        }
      },
      "source": [
        "epochs = 3\n",
        "steps = 0\n",
        "running_loss = 0\n",
        "print_every = 5\n",
        "for epoch in range(epochs):\n",
        "    for inputs, labels in train_dataloader:\n",
        "        steps += 1\n",
        "        # Move input and label tensors to the default device\n",
        "        inputs, labels = inputs.to(device), labels.float().to(device)\n",
        "        \n",
        "        optimizer.zero_grad()\n",
        "        \n",
        "        logps = model.forward(inputs)\n",
        "        loss = criterion(logps[:, -1], labels)\n",
        "        loss.backward()\n",
        "        optimizer.step()\n",
        "\n",
        "        running_loss += loss.item()\n",
        "        \n",
        "        if steps % print_every == 0:\n",
        "            print(f\"Epoch {epoch+1}/{epochs}.. \"\n",
        "                  f\"Train loss: {running_loss/print_every:.3f}.. \")\n",
        "            running_loss = 0\n",
        "            model.train()"
      ],
      "execution_count": 14,
      "outputs": [
        {
          "output_type": "stream",
          "text": [
            "Epoch 1/3.. Train loss: 1.313.. \n",
            "Epoch 1/3.. Train loss: 0.676.. \n",
            "Epoch 1/3.. Train loss: 0.576.. \n",
            "Epoch 1/3.. Train loss: 0.461.. \n",
            "Epoch 1/3.. Train loss: 0.372.. \n",
            "Epoch 1/3.. Train loss: 0.436.. \n",
            "Epoch 1/3.. Train loss: 0.404.. \n",
            "Epoch 1/3.. Train loss: 0.416.. \n",
            "Epoch 1/3.. Train loss: 0.315.. \n",
            "Epoch 1/3.. Train loss: 0.442.. \n",
            "Epoch 2/3.. Train loss: 0.361.. \n",
            "Epoch 2/3.. Train loss: 0.241.. \n",
            "Epoch 2/3.. Train loss: 0.237.. \n",
            "Epoch 2/3.. Train loss: 0.303.. \n",
            "Epoch 2/3.. Train loss: 0.301.. \n",
            "Epoch 2/3.. Train loss: 0.236.. \n",
            "Epoch 2/3.. Train loss: 0.275.. \n",
            "Epoch 2/3.. Train loss: 0.354.. \n",
            "Epoch 2/3.. Train loss: 0.374.. \n",
            "Epoch 2/3.. Train loss: 0.381.. \n",
            "Epoch 3/3.. Train loss: 0.212.. \n",
            "Epoch 3/3.. Train loss: 0.276.. \n",
            "Epoch 3/3.. Train loss: 0.224.. \n",
            "Epoch 3/3.. Train loss: 0.183.. \n",
            "Epoch 3/3.. Train loss: 0.233.. \n",
            "Epoch 3/3.. Train loss: 0.251.. \n",
            "Epoch 3/3.. Train loss: 0.272.. \n",
            "Epoch 3/3.. Train loss: 0.406.. \n",
            "Epoch 3/3.. Train loss: 0.243.. \n",
            "Epoch 3/3.. Train loss: 0.353.. \n",
            "Epoch 3/3.. Train loss: 0.245.. \n"
          ],
          "name": "stdout"
        }
      ]
    },
    {
      "cell_type": "code",
      "metadata": {
        "id": "RK_Gb9iaeLH5",
        "colab_type": "code",
        "colab": {}
      },
      "source": [
        "def predict_image(image, transform):\n",
        "    image_tensor = transforms(image).float()\n",
        "    image_tensor = image_tensor.unsqueeze_(0)\n",
        "    input = Variable(image_tensor)\n",
        "    input = input.to(device)\n",
        "    output = model(input)\n",
        "    index = output.data.cpu().numpy().argmax()\n",
        "    return index"
      ],
      "execution_count": 0,
      "outputs": []
    },
    {
      "cell_type": "code",
      "metadata": {
        "id": "n3VSrc0VwyBR",
        "colab_type": "code",
        "colab": {}
      },
      "source": [
        "test_df = pd.read_csv('/content/drive/My Drive/train_data/test_vc2kHdQ.csv')\n",
        "test_df['emergency_or_not'] = 0\n",
        "test_dataset = VehicleDataset('/content/drive/My Drive/train_data/test_vc2kHdQ.csv', DIR_IMAGES, transforms_valid, False)\n",
        "test_dataloader = DataLoader(test_dataset, batch_size=32, shuffle=True)"
      ],
      "execution_count": 0,
      "outputs": []
    },
    {
      "cell_type": "code",
      "metadata": {
        "id": "nr263wT_4bfk",
        "colab_type": "code",
        "colab": {
          "base_uri": "https://localhost:8080/",
          "height": 124
        },
        "outputId": "7fe2fb6d-6f93-4998-93ec-b6388373d5e9"
      },
      "source": [
        "model.eval()\n",
        "with torch.no_grad():\n",
        "  for image_id, index in test_dataloader:\n",
        "    image_id = image_id.cuda()\n",
        "    output = model(image_id)\n",
        "    result = output.max(axis=1)[1].cpu().numpy()\n",
        "    test_df['emergency_or_not'].iloc[index] = result"
      ],
      "execution_count": 43,
      "outputs": [
        {
          "output_type": "stream",
          "text": [
            "/usr/local/lib/python3.6/dist-packages/pandas/core/indexing.py:671: SettingWithCopyWarning: \n",
            "A value is trying to be set on a copy of a slice from a DataFrame\n",
            "\n",
            "See the caveats in the documentation: https://pandas.pydata.org/pandas-docs/stable/user_guide/indexing.html#returning-a-view-versus-a-copy\n",
            "  self._setitem_with_indexer(indexer, value)\n"
          ],
          "name": "stderr"
        }
      ]
    },
    {
      "cell_type": "code",
      "metadata": {
        "id": "cMTGMdu_SaRI",
        "colab_type": "code",
        "colab": {}
      },
      "source": [
        "test_df.to_csv('result.csv')"
      ],
      "execution_count": 0,
      "outputs": []
    }
  ]
}